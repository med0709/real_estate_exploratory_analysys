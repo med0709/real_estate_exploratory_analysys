{
 "cells": [
  {
   "cell_type": "code",
   "execution_count": 1,
   "metadata": {},
   "outputs": [],
   "source": [
    "import pandas as pd\n",
    "import numpy as np\n",
    "from scipy import stats\n",
    "import matplotlib.pyplot as plt\n",
    "import numpy as np\n",
    "import seaborn as sns\n",
    "import warnings\n",
    "\n",
    "warnings.filterwarnings(\"ignore\")\n",
    "%matplotlib inline"
   ]
  },
  {
   "cell_type": "code",
   "execution_count": 2,
   "metadata": {},
   "outputs": [],
   "source": [
    "## Importando os datasets\n",
    "\n",
    "arquivo_01 = 'tenant_reviews.csv'\n",
    "arquivo_02 = 'tenant_reviews_clean.csv'\n",
    "arquivo_03 = 'visits_contracts.csv'\n",
    "arquivo_04 = 'visits_offers_contracts.csv'\n",
    "\n",
    "df_01 = pd.read_csv(arquivo_01, sep = ';')\n",
    "df_02 = pd.read_csv(arquivo_02, sep = ';')\n",
    "df_03 = pd.read_csv(arquivo_03, sep = ';')\n",
    "df_04 = pd.read_csv(arquivo_04, sep = ';')"
   ]
  },
  {
   "cell_type": "markdown",
   "metadata": {},
   "source": [
    "# EDA - Exploratory Data Analysis\n",
    "\n",
    "## Visits Contracts Dataset"
   ]
  },
  {
   "cell_type": "markdown",
   "metadata": {},
   "source": [
    "Este dataset contem as informações de assinatura ou não assinatura do contrato de acordo com o numero de visitas feitas aos imóveis. </p>\n",
    "> * Total de visitas é de: **11516**.</p>\n",
    "> * Total de contratos assinados: **668**.</p>\n",
    "> * A taxa de contratos _assinados x não assinados_ é de: **6,16%**.</p>\n",
    "\n",
    "---\n",
    "\n",
    "Abaixo poderemos detectar que:\n",
    "\n",
    "> * **45,5%** dos imóveis sofrem apenas uma visita, com taxa de fechamento de assinatura de **2,91%**. </p>\n",
    "> * Somando os imóveis que sofreram entre 2 e 3 visitas, temos **31,32%** do total de visitas no período analisado. A taxa de fechamento de assinaturas corresponde a **9,18%** e **12,55%**, respectivamente, ficando acima da média de geral de fechamento.</p>\n",
    "\n",
    "---\n",
    "\n",
    "\n",
    "Com base com os dados analisados neste dataset:</p>\n",
    "__Indicação de melhoria na qualidade do atendimento na primeira visita e/ou acompanhamento das necessidades do cliente e acompanhar indicador para analise das ações.__</p>\n",
    "__Indicação de sempre sugerir uma segunda visita ao imóvel, onde os agents possam criar uma oportunidade com maior taxa de fechamento de assinatura do contrato do imóvel.__</p>"
   ]
  },
  {
   "cell_type": "code",
   "execution_count": 3,
   "metadata": {},
   "outputs": [
    {
     "data": {
      "text/html": [
       "<div>\n",
       "<style scoped>\n",
       "    .dataframe tbody tr th:only-of-type {\n",
       "        vertical-align: middle;\n",
       "    }\n",
       "\n",
       "    .dataframe tbody tr th {\n",
       "        vertical-align: top;\n",
       "    }\n",
       "\n",
       "    .dataframe thead th {\n",
       "        text-align: right;\n",
       "    }\n",
       "</style>\n",
       "<table border=\"1\" class=\"dataframe\">\n",
       "  <thead>\n",
       "    <tr style=\"text-align: right;\">\n",
       "      <th></th>\n",
       "      <th>visits</th>\n",
       "      <th>tenants_that_did_not_sign</th>\n",
       "      <th>tenants_that_signed</th>\n",
       "    </tr>\n",
       "  </thead>\n",
       "  <tbody>\n",
       "    <tr>\n",
       "      <th>0</th>\n",
       "      <td>1</td>\n",
       "      <td>5,091</td>\n",
       "      <td>148</td>\n",
       "    </tr>\n",
       "    <tr>\n",
       "      <th>1</th>\n",
       "      <td>2</td>\n",
       "      <td>2,199</td>\n",
       "      <td>124</td>\n",
       "    </tr>\n",
       "    <tr>\n",
       "      <th>2</th>\n",
       "      <td>3</td>\n",
       "      <td>1,176</td>\n",
       "      <td>108</td>\n",
       "    </tr>\n",
       "    <tr>\n",
       "      <th>3</th>\n",
       "      <td>4</td>\n",
       "      <td>510</td>\n",
       "      <td>64</td>\n",
       "    </tr>\n",
       "    <tr>\n",
       "      <th>4</th>\n",
       "      <td>5</td>\n",
       "      <td>396</td>\n",
       "      <td>84</td>\n",
       "    </tr>\n",
       "    <tr>\n",
       "      <th>5</th>\n",
       "      <td>6</td>\n",
       "      <td>384</td>\n",
       "      <td>64</td>\n",
       "    </tr>\n",
       "    <tr>\n",
       "      <th>6</th>\n",
       "      <td>7</td>\n",
       "      <td>261</td>\n",
       "      <td>32</td>\n",
       "    </tr>\n",
       "    <tr>\n",
       "      <th>7</th>\n",
       "      <td>8</td>\n",
       "      <td>216</td>\n",
       "      <td>20</td>\n",
       "    </tr>\n",
       "    <tr>\n",
       "      <th>8</th>\n",
       "      <td>9</td>\n",
       "      <td>210</td>\n",
       "      <td>12</td>\n",
       "    </tr>\n",
       "    <tr>\n",
       "      <th>9</th>\n",
       "      <td>10</td>\n",
       "      <td>132</td>\n",
       "      <td>4</td>\n",
       "    </tr>\n",
       "    <tr>\n",
       "      <th>10</th>\n",
       "      <td>11</td>\n",
       "      <td>39</td>\n",
       "      <td>4</td>\n",
       "    </tr>\n",
       "    <tr>\n",
       "      <th>11</th>\n",
       "      <td>12</td>\n",
       "      <td>90</td>\n",
       "      <td>4</td>\n",
       "    </tr>\n",
       "    <tr>\n",
       "      <th>12</th>\n",
       "      <td>13</td>\n",
       "      <td>33</td>\n",
       "      <td>0</td>\n",
       "    </tr>\n",
       "    <tr>\n",
       "      <th>13</th>\n",
       "      <td>14</td>\n",
       "      <td>18</td>\n",
       "      <td>0</td>\n",
       "    </tr>\n",
       "    <tr>\n",
       "      <th>14</th>\n",
       "      <td>15</td>\n",
       "      <td>93</td>\n",
       "      <td>0</td>\n",
       "    </tr>\n",
       "  </tbody>\n",
       "</table>\n",
       "</div>"
      ],
      "text/plain": [
       "    visits tenants_that_did_not_sign  tenants_that_signed\n",
       "0        1                     5,091                  148\n",
       "1        2                     2,199                  124\n",
       "2        3                     1,176                  108\n",
       "3        4                       510                   64\n",
       "4        5                       396                   84\n",
       "5        6                       384                   64\n",
       "6        7                       261                   32\n",
       "7        8                       216                   20\n",
       "8        9                       210                   12\n",
       "9       10                       132                    4\n",
       "10      11                        39                    4\n",
       "11      12                        90                    4\n",
       "12      13                        33                    0\n",
       "13      14                        18                    0\n",
       "14      15                        93                    0"
      ]
     },
     "execution_count": 3,
     "metadata": {},
     "output_type": "execute_result"
    }
   ],
   "source": [
    "df_03"
   ]
  },
  {
   "cell_type": "code",
   "execution_count": 4,
   "metadata": {},
   "outputs": [
    {
     "name": "stdout",
     "output_type": "stream",
     "text": [
      "<class 'pandas.core.frame.DataFrame'>\n",
      "RangeIndex: 15 entries, 0 to 14\n",
      "Data columns (total 3 columns):\n",
      " #   Column                     Non-Null Count  Dtype \n",
      "---  ------                     --------------  ----- \n",
      " 0   visits                     15 non-null     int64 \n",
      " 1   tenants_that_did_not_sign  15 non-null     object\n",
      " 2   tenants_that_signed        15 non-null     int64 \n",
      "dtypes: int64(2), object(1)\n",
      "memory usage: 488.0+ bytes\n"
     ]
    }
   ],
   "source": [
    "df_03.info()"
   ]
  },
  {
   "cell_type": "code",
   "execution_count": 5,
   "metadata": {},
   "outputs": [],
   "source": [
    "# It seemns that collumn 'visits' refers to a number of visits before tenants sign the contract\n",
    "# We'll change to continuous to categorical\n",
    "df_03['visits']  = df_03['visits'].astype('object') "
   ]
  },
  {
   "cell_type": "code",
   "execution_count": 6,
   "metadata": {},
   "outputs": [],
   "source": [
    "# Removing comma from feature 'tenants_that_did_not_sign' and tranforming in numerical\n",
    "\n",
    "df_03['tenants_that_did_not_sign'] = df_03['tenants_that_did_not_sign'].str.replace(',','').astype('float')"
   ]
  },
  {
   "cell_type": "code",
   "execution_count": 7,
   "metadata": {},
   "outputs": [
    {
     "data": {
      "text/plain": [
       "tenants_that_did_not_sign    10848.0\n",
       "tenants_that_signed            668.0\n",
       "dtype: float64"
      ]
     },
     "execution_count": 7,
     "metadata": {},
     "output_type": "execute_result"
    }
   ],
   "source": [
    "df_03[['tenants_that_did_not_sign', 'tenants_that_signed']].sum()"
   ]
  },
  {
   "cell_type": "code",
   "execution_count": 8,
   "metadata": {},
   "outputs": [
    {
     "data": {
      "text/plain": [
       "6.16"
      ]
     },
     "execution_count": 8,
     "metadata": {},
     "output_type": "execute_result"
    }
   ],
   "source": [
    "total_median = round((df_03['tenants_that_signed'].sum() / df_03['tenants_that_did_not_sign'].sum()) * 100, 2)\n",
    "total_median"
   ]
  },
  {
   "cell_type": "code",
   "execution_count": 9,
   "metadata": {},
   "outputs": [
    {
     "data": {
      "text/html": [
       "<div>\n",
       "<style scoped>\n",
       "    .dataframe tbody tr th:only-of-type {\n",
       "        vertical-align: middle;\n",
       "    }\n",
       "\n",
       "    .dataframe tbody tr th {\n",
       "        vertical-align: top;\n",
       "    }\n",
       "\n",
       "    .dataframe thead th {\n",
       "        text-align: right;\n",
       "    }\n",
       "</style>\n",
       "<table border=\"1\" class=\"dataframe\">\n",
       "  <thead>\n",
       "    <tr style=\"text-align: right;\">\n",
       "      <th></th>\n",
       "      <th>visits</th>\n",
       "      <th>tenants_that_did_not_sign</th>\n",
       "      <th>tenants_that_signed</th>\n",
       "      <th>sing_rate</th>\n",
       "    </tr>\n",
       "  </thead>\n",
       "  <tbody>\n",
       "    <tr>\n",
       "      <th>0</th>\n",
       "      <td>1</td>\n",
       "      <td>5091.0</td>\n",
       "      <td>148</td>\n",
       "      <td>2.82</td>\n",
       "    </tr>\n",
       "    <tr>\n",
       "      <th>1</th>\n",
       "      <td>2</td>\n",
       "      <td>2199.0</td>\n",
       "      <td>124</td>\n",
       "      <td>5.34</td>\n",
       "    </tr>\n",
       "    <tr>\n",
       "      <th>2</th>\n",
       "      <td>3</td>\n",
       "      <td>1176.0</td>\n",
       "      <td>108</td>\n",
       "      <td>8.41</td>\n",
       "    </tr>\n",
       "    <tr>\n",
       "      <th>3</th>\n",
       "      <td>4</td>\n",
       "      <td>510.0</td>\n",
       "      <td>64</td>\n",
       "      <td>11.15</td>\n",
       "    </tr>\n",
       "    <tr>\n",
       "      <th>4</th>\n",
       "      <td>5</td>\n",
       "      <td>396.0</td>\n",
       "      <td>84</td>\n",
       "      <td>17.50</td>\n",
       "    </tr>\n",
       "    <tr>\n",
       "      <th>5</th>\n",
       "      <td>6</td>\n",
       "      <td>384.0</td>\n",
       "      <td>64</td>\n",
       "      <td>14.29</td>\n",
       "    </tr>\n",
       "    <tr>\n",
       "      <th>6</th>\n",
       "      <td>7</td>\n",
       "      <td>261.0</td>\n",
       "      <td>32</td>\n",
       "      <td>10.92</td>\n",
       "    </tr>\n",
       "    <tr>\n",
       "      <th>7</th>\n",
       "      <td>8</td>\n",
       "      <td>216.0</td>\n",
       "      <td>20</td>\n",
       "      <td>8.47</td>\n",
       "    </tr>\n",
       "    <tr>\n",
       "      <th>8</th>\n",
       "      <td>9</td>\n",
       "      <td>210.0</td>\n",
       "      <td>12</td>\n",
       "      <td>5.41</td>\n",
       "    </tr>\n",
       "    <tr>\n",
       "      <th>9</th>\n",
       "      <td>10</td>\n",
       "      <td>132.0</td>\n",
       "      <td>4</td>\n",
       "      <td>2.94</td>\n",
       "    </tr>\n",
       "    <tr>\n",
       "      <th>10</th>\n",
       "      <td>11</td>\n",
       "      <td>39.0</td>\n",
       "      <td>4</td>\n",
       "      <td>9.30</td>\n",
       "    </tr>\n",
       "    <tr>\n",
       "      <th>11</th>\n",
       "      <td>12</td>\n",
       "      <td>90.0</td>\n",
       "      <td>4</td>\n",
       "      <td>4.26</td>\n",
       "    </tr>\n",
       "    <tr>\n",
       "      <th>12</th>\n",
       "      <td>13</td>\n",
       "      <td>33.0</td>\n",
       "      <td>0</td>\n",
       "      <td>0.00</td>\n",
       "    </tr>\n",
       "    <tr>\n",
       "      <th>13</th>\n",
       "      <td>14</td>\n",
       "      <td>18.0</td>\n",
       "      <td>0</td>\n",
       "      <td>0.00</td>\n",
       "    </tr>\n",
       "    <tr>\n",
       "      <th>14</th>\n",
       "      <td>15</td>\n",
       "      <td>93.0</td>\n",
       "      <td>0</td>\n",
       "      <td>0.00</td>\n",
       "    </tr>\n",
       "  </tbody>\n",
       "</table>\n",
       "</div>"
      ],
      "text/plain": [
       "   visits  tenants_that_did_not_sign  tenants_that_signed  sing_rate\n",
       "0       1                     5091.0                  148       2.82\n",
       "1       2                     2199.0                  124       5.34\n",
       "2       3                     1176.0                  108       8.41\n",
       "3       4                      510.0                   64      11.15\n",
       "4       5                      396.0                   84      17.50\n",
       "5       6                      384.0                   64      14.29\n",
       "6       7                      261.0                   32      10.92\n",
       "7       8                      216.0                   20       8.47\n",
       "8       9                      210.0                   12       5.41\n",
       "9      10                      132.0                    4       2.94\n",
       "10     11                       39.0                    4       9.30\n",
       "11     12                       90.0                    4       4.26\n",
       "12     13                       33.0                    0       0.00\n",
       "13     14                       18.0                    0       0.00\n",
       "14     15                       93.0                    0       0.00"
      ]
     },
     "execution_count": 9,
     "metadata": {},
     "output_type": "execute_result"
    }
   ],
   "source": [
    "df_03['sing_rate'] = round((df_03['tenants_that_signed'] / (df_03['tenants_that_did_not_sign'] + (df_03['tenants_that_signed']))) * 100, 2)\n",
    "df_03"
   ]
  },
  {
   "cell_type": "code",
   "execution_count": 10,
   "metadata": {},
   "outputs": [
    {
     "data": {
      "text/html": [
       "<div>\n",
       "<style scoped>\n",
       "    .dataframe tbody tr th:only-of-type {\n",
       "        vertical-align: middle;\n",
       "    }\n",
       "\n",
       "    .dataframe tbody tr th {\n",
       "        vertical-align: top;\n",
       "    }\n",
       "\n",
       "    .dataframe thead th {\n",
       "        text-align: right;\n",
       "    }\n",
       "</style>\n",
       "<table border=\"1\" class=\"dataframe\">\n",
       "  <thead>\n",
       "    <tr style=\"text-align: right;\">\n",
       "      <th></th>\n",
       "      <th>visits</th>\n",
       "      <th>tenants_that_did_not_sign</th>\n",
       "      <th>tenants_that_signed</th>\n",
       "      <th>sing_rate</th>\n",
       "      <th>total_visits_rate</th>\n",
       "    </tr>\n",
       "  </thead>\n",
       "  <tbody>\n",
       "    <tr>\n",
       "      <th>0</th>\n",
       "      <td>1</td>\n",
       "      <td>5091.0</td>\n",
       "      <td>148</td>\n",
       "      <td>2.82</td>\n",
       "      <td>45.49</td>\n",
       "    </tr>\n",
       "    <tr>\n",
       "      <th>1</th>\n",
       "      <td>2</td>\n",
       "      <td>2199.0</td>\n",
       "      <td>124</td>\n",
       "      <td>5.34</td>\n",
       "      <td>20.17</td>\n",
       "    </tr>\n",
       "    <tr>\n",
       "      <th>2</th>\n",
       "      <td>3</td>\n",
       "      <td>1176.0</td>\n",
       "      <td>108</td>\n",
       "      <td>8.41</td>\n",
       "      <td>11.15</td>\n",
       "    </tr>\n",
       "    <tr>\n",
       "      <th>3</th>\n",
       "      <td>4</td>\n",
       "      <td>510.0</td>\n",
       "      <td>64</td>\n",
       "      <td>11.15</td>\n",
       "      <td>4.98</td>\n",
       "    </tr>\n",
       "    <tr>\n",
       "      <th>4</th>\n",
       "      <td>5</td>\n",
       "      <td>396.0</td>\n",
       "      <td>84</td>\n",
       "      <td>17.50</td>\n",
       "      <td>4.17</td>\n",
       "    </tr>\n",
       "    <tr>\n",
       "      <th>5</th>\n",
       "      <td>6</td>\n",
       "      <td>384.0</td>\n",
       "      <td>64</td>\n",
       "      <td>14.29</td>\n",
       "      <td>3.89</td>\n",
       "    </tr>\n",
       "    <tr>\n",
       "      <th>6</th>\n",
       "      <td>7</td>\n",
       "      <td>261.0</td>\n",
       "      <td>32</td>\n",
       "      <td>10.92</td>\n",
       "      <td>2.54</td>\n",
       "    </tr>\n",
       "    <tr>\n",
       "      <th>7</th>\n",
       "      <td>8</td>\n",
       "      <td>216.0</td>\n",
       "      <td>20</td>\n",
       "      <td>8.47</td>\n",
       "      <td>2.05</td>\n",
       "    </tr>\n",
       "    <tr>\n",
       "      <th>8</th>\n",
       "      <td>9</td>\n",
       "      <td>210.0</td>\n",
       "      <td>12</td>\n",
       "      <td>5.41</td>\n",
       "      <td>1.93</td>\n",
       "    </tr>\n",
       "    <tr>\n",
       "      <th>9</th>\n",
       "      <td>10</td>\n",
       "      <td>132.0</td>\n",
       "      <td>4</td>\n",
       "      <td>2.94</td>\n",
       "      <td>1.18</td>\n",
       "    </tr>\n",
       "    <tr>\n",
       "      <th>10</th>\n",
       "      <td>11</td>\n",
       "      <td>39.0</td>\n",
       "      <td>4</td>\n",
       "      <td>9.30</td>\n",
       "      <td>0.37</td>\n",
       "    </tr>\n",
       "    <tr>\n",
       "      <th>11</th>\n",
       "      <td>12</td>\n",
       "      <td>90.0</td>\n",
       "      <td>4</td>\n",
       "      <td>4.26</td>\n",
       "      <td>0.82</td>\n",
       "    </tr>\n",
       "    <tr>\n",
       "      <th>12</th>\n",
       "      <td>13</td>\n",
       "      <td>33.0</td>\n",
       "      <td>0</td>\n",
       "      <td>0.00</td>\n",
       "      <td>0.29</td>\n",
       "    </tr>\n",
       "    <tr>\n",
       "      <th>13</th>\n",
       "      <td>14</td>\n",
       "      <td>18.0</td>\n",
       "      <td>0</td>\n",
       "      <td>0.00</td>\n",
       "      <td>0.16</td>\n",
       "    </tr>\n",
       "    <tr>\n",
       "      <th>14</th>\n",
       "      <td>15</td>\n",
       "      <td>93.0</td>\n",
       "      <td>0</td>\n",
       "      <td>0.00</td>\n",
       "      <td>0.81</td>\n",
       "    </tr>\n",
       "  </tbody>\n",
       "</table>\n",
       "</div>"
      ],
      "text/plain": [
       "   visits  tenants_that_did_not_sign  tenants_that_signed  sing_rate  \\\n",
       "0       1                     5091.0                  148       2.82   \n",
       "1       2                     2199.0                  124       5.34   \n",
       "2       3                     1176.0                  108       8.41   \n",
       "3       4                      510.0                   64      11.15   \n",
       "4       5                      396.0                   84      17.50   \n",
       "5       6                      384.0                   64      14.29   \n",
       "6       7                      261.0                   32      10.92   \n",
       "7       8                      216.0                   20       8.47   \n",
       "8       9                      210.0                   12       5.41   \n",
       "9      10                      132.0                    4       2.94   \n",
       "10     11                       39.0                    4       9.30   \n",
       "11     12                       90.0                    4       4.26   \n",
       "12     13                       33.0                    0       0.00   \n",
       "13     14                       18.0                    0       0.00   \n",
       "14     15                       93.0                    0       0.00   \n",
       "\n",
       "    total_visits_rate  \n",
       "0               45.49  \n",
       "1               20.17  \n",
       "2               11.15  \n",
       "3                4.98  \n",
       "4                4.17  \n",
       "5                3.89  \n",
       "6                2.54  \n",
       "7                2.05  \n",
       "8                1.93  \n",
       "9                1.18  \n",
       "10               0.37  \n",
       "11               0.82  \n",
       "12               0.29  \n",
       "13               0.16  \n",
       "14               0.81  "
      ]
     },
     "execution_count": 10,
     "metadata": {},
     "output_type": "execute_result"
    }
   ],
   "source": [
    "total_tenants = sum(df_03['tenants_that_did_not_sign']) + sum(df_03['tenants_that_signed'])\n",
    "df_03['total_visits_rate'] = round(((((df_03['tenants_that_did_not_sign']) + (df_03['tenants_that_signed'])) / total_tenants) * 100),2)\n",
    "df_03"
   ]
  },
  {
   "cell_type": "markdown",
   "metadata": {},
   "source": [
    "#### Taxa de Visitas Por Quantidade de Visitas Feitas\n",
    "\n",
    "* calculo: visitas feitas por categoria / soma de todas as visitas"
   ]
  },
  {
   "cell_type": "code",
   "execution_count": 11,
   "metadata": {},
   "outputs": [
    {
     "data": {
      "image/png": "[encoded data removed]",
      "text/plain": [
       "<Figure size 540x360 with 1 Axes>"
      ]
     },
     "metadata": {},
     "output_type": "display_data"
    }
   ],
   "source": [
    "## Porcentagem de Cada Numero de Visitas\n",
    "\n",
    "plt.style.use('ggplot')\n",
    "g = sns.FacetGrid(df_03, size=5, aspect=1.5)\n",
    "g.map(sns.barplot, \"visits\", \"total_visits_rate\", palette='viridis');"
   ]
  },
  {
   "cell_type": "markdown",
   "metadata": {},
   "source": [
    "#### Taxa de Assinatura de Contratos por Categoria\n",
    "* calculo: numero de contratos assinados / soma todos os contratos</p>\n",
    "\n",
    "A linha vermelha representa a taxa de assinatura média total."
   ]
  },
  {
   "cell_type": "code",
   "execution_count": 12,
   "metadata": {},
   "outputs": [
    {
     "data": {
      "image/png": "[encoded data removed]",
      "text/plain": [
       "<Figure size 540x360 with 1 Axes>"
      ]
     },
     "metadata": {},
     "output_type": "display_data"
    }
   ],
   "source": [
    "plt.style.use('ggplot')\n",
    "g = sns.FacetGrid(df_03, size=5, aspect=1.5)\n",
    "g.map(sns.barplot, \"visits\", \"sing_rate\", palette='viridis')\n",
    "\n",
    "#  Adding total_median line\n",
    "plt.axhline(total_median)\n",
    "\n",
    "plt.show()"
   ]
  },
  {
   "cell_type": "markdown",
   "metadata": {},
   "source": [
    "#### Numero de Contratos Não Assinados Por Categoria"
   ]
  },
  {
   "cell_type": "code",
   "execution_count": 13,
   "metadata": {},
   "outputs": [
    {
     "data": {
      "image/png": "[encoded data removed]",
      "text/plain": [
       "<Figure size 540x360 with 1 Axes>"
      ]
     },
     "metadata": {},
     "output_type": "display_data"
    }
   ],
   "source": [
    "plt.style.use('ggplot')\n",
    "g = sns.FacetGrid(df_03, size=5, aspect=1.5)\n",
    "g.map(sns.barplot, \"visits\", \"tenants_that_did_not_sign\", palette='viridis')\n",
    "\n",
    "plt.show()"
   ]
  },
  {
   "cell_type": "markdown",
   "metadata": {},
   "source": [
    "#### Numero de Contratos Assinados Por Categoria"
   ]
  },
  {
   "cell_type": "code",
   "execution_count": 14,
   "metadata": {},
   "outputs": [
    {
     "data": {
      "image/png": "[encoded data removed]",
      "text/plain": [
       "<Figure size 540x360 with 1 Axes>"
      ]
     },
     "metadata": {},
     "output_type": "display_data"
    }
   ],
   "source": [
    "plt.style.use('ggplot')\n",
    "g = sns.FacetGrid(df_03, size=5, aspect=1.5)\n",
    "g.map(sns.barplot, \"visits\", \"tenants_that_signed\", palette='viridis')\n",
    "\n",
    "plt.show()"
   ]
  },
  {
   "cell_type": "markdown",
   "metadata": {},
   "source": [
    "## Visits Offers Contracts"
   ]
  },
  {
   "cell_type": "markdown",
   "metadata": {},
   "source": [
    "Este dataset contem as informações de acompanhamento mensal dos imóveis e as seguintes características:</p>\n",
    "\n",
    "> * visits: número de visitas </p>\n",
    "> * tenant_that_visited: número de inquilinos que agendaram visitas.</p>\n",
    "> * visited_houses: número de casas que tiveram agendamento de visitas.</p>\n",
    "> * offers: número de ofertas feitas.</p>\n",
    "> * tenants_that_made_offers: número inquilinos que ofertaram.</p>\n",
    "> * contracts: número contratos assinados.</p>\n",
    "\n",
    "---\n",
    "\n",
    "Abaixo poderemos detectar que:\n",
    "\n",
    "> * Houve uma tendencia de aumento de número de inquilinos que agendaram visitas, entretanto o número de casas visitadas no último trimestre diminiu. </p>\n",
    "> * O número total de contratos fechados está em queda desde o ínicio dos registros existentes neste dataset, tendo uma queda de aproximadamente **48%** no periodo analisado. </p>\n",
    "> * O número de ofertas feitas no último trimestre esta um pouco abaixo da média. </p>\n",
    "> * O número de ofertas feitas no último trimestre esta um pouco abaixo da média. </p>\n",
    "\n",
    "---\n",
    "Com base com os dados analisados neste dataset:</p>\n",
    "__Criar cluster dos usuários que estão utilizando a plataforma afim de descobrir o perfil de clientes, uma vez que o numero total de clientes que estão acessando a plataforma esta em crescimento mas o número de fechamento de contratos esta diminuindo.__</p>\n",
    "__Fazer pesquisa de satisfação para entender o motivo de inquilinos não estarem fazendo novas ofertas, mesmo com o numero de visitas agendadas por inquilinos ter aumentado.__</p>"
   ]
  },
  {
   "cell_type": "code",
   "execution_count": 15,
   "metadata": {},
   "outputs": [
    {
     "data": {
      "text/html": [
       "<div>\n",
       "<style scoped>\n",
       "    .dataframe tbody tr th:only-of-type {\n",
       "        vertical-align: middle;\n",
       "    }\n",
       "\n",
       "    .dataframe tbody tr th {\n",
       "        vertical-align: top;\n",
       "    }\n",
       "\n",
       "    .dataframe thead th {\n",
       "        text-align: right;\n",
       "    }\n",
       "</style>\n",
       "<table border=\"1\" class=\"dataframe\">\n",
       "  <thead>\n",
       "    <tr style=\"text-align: right;\">\n",
       "      <th></th>\n",
       "      <th>month</th>\n",
       "      <th>visits</th>\n",
       "      <th>tenant_that_visited</th>\n",
       "      <th>visited_houses</th>\n",
       "      <th>offers</th>\n",
       "      <th>tenants_that_made_offers</th>\n",
       "      <th>contracts</th>\n",
       "    </tr>\n",
       "  </thead>\n",
       "  <tbody>\n",
       "    <tr>\n",
       "      <th>0</th>\n",
       "      <td>jan</td>\n",
       "      <td>7,130</td>\n",
       "      <td>4,678</td>\n",
       "      <td>4,140</td>\n",
       "      <td>3,924</td>\n",
       "      <td>2,977</td>\n",
       "      <td>724</td>\n",
       "    </tr>\n",
       "    <tr>\n",
       "      <th>1</th>\n",
       "      <td>fev</td>\n",
       "      <td>7,132</td>\n",
       "      <td>5,193</td>\n",
       "      <td>4,322</td>\n",
       "      <td>3,658</td>\n",
       "      <td>2,461</td>\n",
       "      <td>689</td>\n",
       "    </tr>\n",
       "    <tr>\n",
       "      <th>2</th>\n",
       "      <td>mar</td>\n",
       "      <td>6,933</td>\n",
       "      <td>5,322</td>\n",
       "      <td>4,299</td>\n",
       "      <td>3,791</td>\n",
       "      <td>2,526</td>\n",
       "      <td>667</td>\n",
       "    </tr>\n",
       "    <tr>\n",
       "      <th>3</th>\n",
       "      <td>abr</td>\n",
       "      <td>7,342</td>\n",
       "      <td>5,844</td>\n",
       "      <td>3,150</td>\n",
       "      <td>2,453</td>\n",
       "      <td>1,699</td>\n",
       "      <td>603</td>\n",
       "    </tr>\n",
       "    <tr>\n",
       "      <th>4</th>\n",
       "      <td>mai</td>\n",
       "      <td>7,238</td>\n",
       "      <td>6,112</td>\n",
       "      <td>4,006</td>\n",
       "      <td>3,587</td>\n",
       "      <td>2,645</td>\n",
       "      <td>544</td>\n",
       "    </tr>\n",
       "    <tr>\n",
       "      <th>5</th>\n",
       "      <td>jun</td>\n",
       "      <td>8,377</td>\n",
       "      <td>6,710</td>\n",
       "      <td>3,250</td>\n",
       "      <td>3,011</td>\n",
       "      <td>1,583</td>\n",
       "      <td>542</td>\n",
       "    </tr>\n",
       "    <tr>\n",
       "      <th>6</th>\n",
       "      <td>jul</td>\n",
       "      <td>8,130</td>\n",
       "      <td>7,122</td>\n",
       "      <td>3,993</td>\n",
       "      <td>3,500</td>\n",
       "      <td>1,801</td>\n",
       "      <td>443</td>\n",
       "    </tr>\n",
       "    <tr>\n",
       "      <th>7</th>\n",
       "      <td>ago</td>\n",
       "      <td>8,288</td>\n",
       "      <td>7,630</td>\n",
       "      <td>4,155</td>\n",
       "      <td>3,431</td>\n",
       "      <td>1,857</td>\n",
       "      <td>376</td>\n",
       "    </tr>\n",
       "  </tbody>\n",
       "</table>\n",
       "</div>"
      ],
      "text/plain": [
       "  month visits tenant_that_visited visited_houses offers  \\\n",
       "0   jan  7,130               4,678          4,140  3,924   \n",
       "1   fev  7,132               5,193          4,322  3,658   \n",
       "2   mar  6,933               5,322          4,299  3,791   \n",
       "3   abr  7,342               5,844          3,150  2,453   \n",
       "4   mai  7,238               6,112          4,006  3,587   \n",
       "5   jun  8,377               6,710          3,250  3,011   \n",
       "6   jul  8,130               7,122          3,993  3,500   \n",
       "7   ago  8,288               7,630          4,155  3,431   \n",
       "\n",
       "  tenants_that_made_offers  contracts  \n",
       "0                    2,977        724  \n",
       "1                    2,461        689  \n",
       "2                    2,526        667  \n",
       "3                    1,699        603  \n",
       "4                    2,645        544  \n",
       "5                    1,583        542  \n",
       "6                    1,801        443  \n",
       "7                    1,857        376  "
      ]
     },
     "execution_count": 15,
     "metadata": {},
     "output_type": "execute_result"
    }
   ],
   "source": [
    "df_04"
   ]
  },
  {
   "cell_type": "code",
   "execution_count": 16,
   "metadata": {},
   "outputs": [
    {
     "name": "stdout",
     "output_type": "stream",
     "text": [
      "<class 'pandas.core.frame.DataFrame'>\n",
      "RangeIndex: 8 entries, 0 to 7\n",
      "Data columns (total 7 columns):\n",
      " #   Column                    Non-Null Count  Dtype \n",
      "---  ------                    --------------  ----- \n",
      " 0   month                     8 non-null      object\n",
      " 1   visits                    8 non-null      object\n",
      " 2   tenant_that_visited       8 non-null      object\n",
      " 3   visited_houses            8 non-null      object\n",
      " 4   offers                    8 non-null      object\n",
      " 5   tenants_that_made_offers  8 non-null      object\n",
      " 6   contracts                 8 non-null      int64 \n",
      "dtypes: int64(1), object(6)\n",
      "memory usage: 576.0+ bytes\n"
     ]
    }
   ],
   "source": [
    "df_04.info()"
   ]
  },
  {
   "cell_type": "code",
   "execution_count": 17,
   "metadata": {},
   "outputs": [
    {
     "data": {
      "text/html": [
       "<div>\n",
       "<style scoped>\n",
       "    .dataframe tbody tr th:only-of-type {\n",
       "        vertical-align: middle;\n",
       "    }\n",
       "\n",
       "    .dataframe tbody tr th {\n",
       "        vertical-align: top;\n",
       "    }\n",
       "\n",
       "    .dataframe thead th {\n",
       "        text-align: right;\n",
       "    }\n",
       "</style>\n",
       "<table border=\"1\" class=\"dataframe\">\n",
       "  <thead>\n",
       "    <tr style=\"text-align: right;\">\n",
       "      <th></th>\n",
       "      <th>month</th>\n",
       "      <th>visits</th>\n",
       "      <th>tenant_that_visited</th>\n",
       "      <th>visited_houses</th>\n",
       "      <th>offers</th>\n",
       "      <th>tenants_that_made_offers</th>\n",
       "      <th>contracts</th>\n",
       "    </tr>\n",
       "  </thead>\n",
       "  <tbody>\n",
       "    <tr>\n",
       "      <th>1</th>\n",
       "      <td>fev</td>\n",
       "      <td>7,132</td>\n",
       "      <td>5,193</td>\n",
       "      <td>4,322</td>\n",
       "      <td>3,658</td>\n",
       "      <td>2,461</td>\n",
       "      <td>689</td>\n",
       "    </tr>\n",
       "    <tr>\n",
       "      <th>2</th>\n",
       "      <td>mar</td>\n",
       "      <td>6,933</td>\n",
       "      <td>5,322</td>\n",
       "      <td>4,299</td>\n",
       "      <td>3,791</td>\n",
       "      <td>2,526</td>\n",
       "      <td>667</td>\n",
       "    </tr>\n",
       "    <tr>\n",
       "      <th>3</th>\n",
       "      <td>abr</td>\n",
       "      <td>7,342</td>\n",
       "      <td>5,844</td>\n",
       "      <td>3,150</td>\n",
       "      <td>2,453</td>\n",
       "      <td>1,699</td>\n",
       "      <td>603</td>\n",
       "    </tr>\n",
       "    <tr>\n",
       "      <th>4</th>\n",
       "      <td>mai</td>\n",
       "      <td>7,238</td>\n",
       "      <td>6,112</td>\n",
       "      <td>4,006</td>\n",
       "      <td>3,587</td>\n",
       "      <td>2,645</td>\n",
       "      <td>544</td>\n",
       "    </tr>\n",
       "    <tr>\n",
       "      <th>5</th>\n",
       "      <td>jun</td>\n",
       "      <td>8,377</td>\n",
       "      <td>6,710</td>\n",
       "      <td>3,250</td>\n",
       "      <td>3,011</td>\n",
       "      <td>1,583</td>\n",
       "      <td>542</td>\n",
       "    </tr>\n",
       "    <tr>\n",
       "      <th>6</th>\n",
       "      <td>jul</td>\n",
       "      <td>8,130</td>\n",
       "      <td>7,122</td>\n",
       "      <td>3,993</td>\n",
       "      <td>3,500</td>\n",
       "      <td>1,801</td>\n",
       "      <td>443</td>\n",
       "    </tr>\n",
       "    <tr>\n",
       "      <th>7</th>\n",
       "      <td>ago</td>\n",
       "      <td>8,288</td>\n",
       "      <td>7,630</td>\n",
       "      <td>4,155</td>\n",
       "      <td>3,431</td>\n",
       "      <td>1,857</td>\n",
       "      <td>376</td>\n",
       "    </tr>\n",
       "  </tbody>\n",
       "</table>\n",
       "</div>"
      ],
      "text/plain": [
       "  month visits tenant_that_visited visited_houses offers  \\\n",
       "1   fev  7,132               5,193          4,322  3,658   \n",
       "2   mar  6,933               5,322          4,299  3,791   \n",
       "3   abr  7,342               5,844          3,150  2,453   \n",
       "4   mai  7,238               6,112          4,006  3,587   \n",
       "5   jun  8,377               6,710          3,250  3,011   \n",
       "6   jul  8,130               7,122          3,993  3,500   \n",
       "7   ago  8,288               7,630          4,155  3,431   \n",
       "\n",
       "  tenants_that_made_offers  contracts  \n",
       "1                    2,461        689  \n",
       "2                    2,526        667  \n",
       "3                    1,699        603  \n",
       "4                    2,645        544  \n",
       "5                    1,583        542  \n",
       "6                    1,801        443  \n",
       "7                    1,857        376  "
      ]
     },
     "execution_count": 17,
     "metadata": {},
     "output_type": "execute_result"
    }
   ],
   "source": [
    "df_04.loc[ 1: ]"
   ]
  },
  {
   "cell_type": "code",
   "execution_count": 18,
   "metadata": {},
   "outputs": [],
   "source": [
    "df_04['visits'] = df_04['visits'].str.replace(',','').astype('float')\n",
    "df_04['tenant_that_visited'] = df_04['tenant_that_visited'].str.replace(',','').astype('float')\n",
    "df_04['visited_houses'] = df_04['visited_houses'].str.replace(',','').astype('float')\n",
    "df_04['offers'] = df_04['offers'].str.replace(',','').astype('float')\n",
    "df_04['tenants_that_made_offers'] = df_04['tenants_that_made_offers'].str.replace(',','').astype('float')"
   ]
  },
  {
   "cell_type": "code",
   "execution_count": 19,
   "metadata": {},
   "outputs": [
    {
     "name": "stdout",
     "output_type": "stream",
     "text": [
      "<class 'pandas.core.frame.DataFrame'>\n",
      "RangeIndex: 8 entries, 0 to 7\n",
      "Data columns (total 7 columns):\n",
      " #   Column                    Non-Null Count  Dtype  \n",
      "---  ------                    --------------  -----  \n",
      " 0   month                     8 non-null      object \n",
      " 1   visits                    8 non-null      float64\n",
      " 2   tenant_that_visited       8 non-null      float64\n",
      " 3   visited_houses            8 non-null      float64\n",
      " 4   offers                    8 non-null      float64\n",
      " 5   tenants_that_made_offers  8 non-null      float64\n",
      " 6   contracts                 8 non-null      int64  \n",
      "dtypes: float64(5), int64(1), object(1)\n",
      "memory usage: 576.0+ bytes\n"
     ]
    }
   ],
   "source": [
    "df_04.info()"
   ]
  },
  {
   "cell_type": "code",
   "execution_count": 20,
   "metadata": {},
   "outputs": [
    {
     "data": {
      "text/plain": [
       "month                       janfevmarabrmaijunjulago\n",
       "visits                                       60570.0\n",
       "tenant_that_visited                          48611.0\n",
       "visited_houses                               31315.0\n",
       "offers                                       27355.0\n",
       "tenants_that_made_offers                     17549.0\n",
       "contracts                                       4588\n",
       "dtype: object"
      ]
     },
     "execution_count": 20,
     "metadata": {},
     "output_type": "execute_result"
    }
   ],
   "source": [
    "df_04.sum()"
   ]
  },
  {
   "cell_type": "markdown",
   "metadata": {},
   "source": [
    "#### Numero de Visitas Por Mes"
   ]
  },
  {
   "cell_type": "code",
   "execution_count": 21,
   "metadata": {},
   "outputs": [
    {
     "data": {
      "image/png": "[encoded data removed]",
      "text/plain": [
       "<Figure size 540x360 with 1 Axes>"
      ]
     },
     "metadata": {},
     "output_type": "display_data"
    }
   ],
   "source": [
    "plt.style.use('ggplot')\n",
    "g = sns.FacetGrid(df_04, size=5, aspect=1.5)\n",
    "g.map(sns.barplot, \"month\", \"visits\", palette='viridis')\n",
    "\n",
    "plt.show()"
   ]
  },
  {
   "cell_type": "markdown",
   "metadata": {},
   "source": [
    "#### Quantidade de Imoveis Registrados na Plataforma Por Mes\n",
    "\n",
    "O gráfico abaixo representa o número de imoveis registrado na plataforma ao longo dos meses. </p>\n",
    "Durante os meses de abrril a junho houve uma queda acentuada de imoveis registrados, no ultimo bimestre este número foi resgatado para acima da média. </p>\n",
    "Mesmo com essa baixa, vimos acima que o número de visitas realizadas não sofreu queda. "
   ]
  },
  {
   "cell_type": "code",
   "execution_count": 22,
   "metadata": {},
   "outputs": [
    {
     "data": {
      "image/png": "[encoded data removed]",
      "text/plain": [
       "<Figure size 540x360 with 1 Axes>"
      ]
     },
     "metadata": {},
     "output_type": "display_data"
    }
   ],
   "source": [
    "plt.style.use('ggplot')\n",
    "g = sns.FacetGrid(df_04, size=5, aspect=1.5)\n",
    "g.map(sns.barplot, \"month\", \"visited_houses\", palette='viridis')\n",
    "\n",
    "#  Adding total_median line\n",
    "plt.axhline(df_04['visited_houses'].mean())\n",
    "\n",
    "plt.show()"
   ]
  },
  {
   "cell_type": "markdown",
   "metadata": {},
   "source": [
    "#### Quantidade de Inquilinos que Realizaram Visitas Por Mes"
   ]
  },
  {
   "cell_type": "code",
   "execution_count": 23,
   "metadata": {},
   "outputs": [
    {
     "data": {
      "image/png": "[encoded data removed]",
      "text/plain": [
       "<Figure size 540x360 with 1 Axes>"
      ]
     },
     "metadata": {},
     "output_type": "display_data"
    }
   ],
   "source": [
    "plt.style.use('ggplot')\n",
    "g = sns.FacetGrid(df_04, size=5, aspect=1.5)\n",
    "g.map(sns.barplot, \"month\", \"tenant_that_visited\", palette='viridis')\n",
    "\n",
    "plt.show()"
   ]
  },
  {
   "cell_type": "markdown",
   "metadata": {},
   "source": [
    "#### Quantidade Ofertas Feitas por Inquilinos na Plataforma Por Mes\n",
    "\n",
    "O número de inquilinos que fizeram uma oferta está em queda após o primeiro trimestre, tendo registrado um pico no mes de maio. </p>\n",
    "A linha em vermelho representa a média aparada (10%)."
   ]
  },
  {
   "cell_type": "code",
   "execution_count": 24,
   "metadata": {},
   "outputs": [
    {
     "data": {
      "image/png": "[encoded data removed]",
      "text/plain": [
       "<Figure size 540x360 with 1 Axes>"
      ]
     },
     "metadata": {},
     "output_type": "display_data"
    }
   ],
   "source": [
    "plt.style.use('ggplot')\n",
    "g = sns.FacetGrid(df_04, size=5, aspect=1.5)\n",
    "g.map(sns.barplot, \"month\", \"tenants_that_made_offers\", palette='viridis')\n",
    "\n",
    "# For this case we'll use the trimmed mean to compare the number of tenants that made offers along time\n",
    "plt.axhline(stats.trim_mean(df_04['tenants_that_made_offers'], 0.1))\n",
    "\n",
    "plt.show()"
   ]
  },
  {
   "cell_type": "markdown",
   "metadata": {},
   "source": [
    "#### Quantidade Ofertas na Plataforma Por Mes\n",
    "\n",
    "O número de ofertas feitas ao longo do período analisado. </p>\n",
    "A linha em vermelho representa a média aparada (10%)."
   ]
  },
  {
   "cell_type": "code",
   "execution_count": 25,
   "metadata": {},
   "outputs": [
    {
     "data": {
      "image/png": "[encoded data removed]",
      "text/plain": [
       "<Figure size 540x360 with 1 Axes>"
      ]
     },
     "metadata": {},
     "output_type": "display_data"
    }
   ],
   "source": [
    "plt.style.use('ggplot')\n",
    "g = sns.FacetGrid(df_04, size=5, aspect=1.5)\n",
    "g.map(sns.barplot, \"month\", \"offers\", palette='viridis')\n",
    "\n",
    "plt.axhline(stats.trim_mean(df_04['offers'], 0.1))\n",
    "\n",
    "plt.show()"
   ]
  },
  {
   "cell_type": "markdown",
   "metadata": {},
   "source": [
    "#### Quantidade Contratos na Plataforma Por Mes\n"
   ]
  },
  {
   "cell_type": "code",
   "execution_count": 26,
   "metadata": {},
   "outputs": [
    {
     "data": {
      "image/png": "[encoded data removed]",
      "text/plain": [
       "<Figure size 540x360 with 1 Axes>"
      ]
     },
     "metadata": {},
     "output_type": "display_data"
    }
   ],
   "source": [
    "plt.style.use('ggplot')\n",
    "g = sns.FacetGrid(df_04, size=5, aspect=1.5)\n",
    "g.map(sns.barplot, \"month\", \"contracts\", palette='viridis')\n",
    "\n",
    "plt.show()"
   ]
  },
  {
   "cell_type": "code",
   "execution_count": 27,
   "metadata": {},
   "outputs": [
    {
     "data": {
      "text/html": [
       "<div>\n",
       "<style scoped>\n",
       "    .dataframe tbody tr th:only-of-type {\n",
       "        vertical-align: middle;\n",
       "    }\n",
       "\n",
       "    .dataframe tbody tr th {\n",
       "        vertical-align: top;\n",
       "    }\n",
       "\n",
       "    .dataframe thead th {\n",
       "        text-align: right;\n",
       "    }\n",
       "</style>\n",
       "<table border=\"1\" class=\"dataframe\">\n",
       "  <thead>\n",
       "    <tr style=\"text-align: right;\">\n",
       "      <th></th>\n",
       "      <th>visits</th>\n",
       "      <th>tenant_that_visited</th>\n",
       "      <th>visited_houses</th>\n",
       "      <th>offers</th>\n",
       "      <th>tenants_that_made_offers</th>\n",
       "      <th>contracts</th>\n",
       "    </tr>\n",
       "  </thead>\n",
       "  <tbody>\n",
       "    <tr>\n",
       "      <th>visits</th>\n",
       "      <td>1.000000</td>\n",
       "      <td>0.888321</td>\n",
       "      <td>-0.370056</td>\n",
       "      <td>-0.343493</td>\n",
       "      <td>-0.777455</td>\n",
       "      <td>-0.824084</td>\n",
       "    </tr>\n",
       "    <tr>\n",
       "      <th>tenant_that_visited</th>\n",
       "      <td>0.888321</td>\n",
       "      <td>1.000000</td>\n",
       "      <td>-0.229909</td>\n",
       "      <td>-0.330744</td>\n",
       "      <td>-0.748945</td>\n",
       "      <td>-0.984795</td>\n",
       "    </tr>\n",
       "    <tr>\n",
       "      <th>visited_houses</th>\n",
       "      <td>-0.370056</td>\n",
       "      <td>-0.229909</td>\n",
       "      <td>1.000000</td>\n",
       "      <td>0.911782</td>\n",
       "      <td>0.678628</td>\n",
       "      <td>0.141055</td>\n",
       "    </tr>\n",
       "    <tr>\n",
       "      <th>offers</th>\n",
       "      <td>-0.343493</td>\n",
       "      <td>-0.330744</td>\n",
       "      <td>0.911782</td>\n",
       "      <td>1.000000</td>\n",
       "      <td>0.781182</td>\n",
       "      <td>0.258856</td>\n",
       "    </tr>\n",
       "    <tr>\n",
       "      <th>tenants_that_made_offers</th>\n",
       "      <td>-0.777455</td>\n",
       "      <td>-0.748945</td>\n",
       "      <td>0.678628</td>\n",
       "      <td>0.781182</td>\n",
       "      <td>1.000000</td>\n",
       "      <td>0.654182</td>\n",
       "    </tr>\n",
       "    <tr>\n",
       "      <th>contracts</th>\n",
       "      <td>-0.824084</td>\n",
       "      <td>-0.984795</td>\n",
       "      <td>0.141055</td>\n",
       "      <td>0.258856</td>\n",
       "      <td>0.654182</td>\n",
       "      <td>1.000000</td>\n",
       "    </tr>\n",
       "  </tbody>\n",
       "</table>\n",
       "</div>"
      ],
      "text/plain": [
       "                            visits  tenant_that_visited  visited_houses  \\\n",
       "visits                    1.000000             0.888321       -0.370056   \n",
       "tenant_that_visited       0.888321             1.000000       -0.229909   \n",
       "visited_houses           -0.370056            -0.229909        1.000000   \n",
       "offers                   -0.343493            -0.330744        0.911782   \n",
       "tenants_that_made_offers -0.777455            -0.748945        0.678628   \n",
       "contracts                -0.824084            -0.984795        0.141055   \n",
       "\n",
       "                            offers  tenants_that_made_offers  contracts  \n",
       "visits                   -0.343493                 -0.777455  -0.824084  \n",
       "tenant_that_visited      -0.330744                 -0.748945  -0.984795  \n",
       "visited_houses            0.911782                  0.678628   0.141055  \n",
       "offers                    1.000000                  0.781182   0.258856  \n",
       "tenants_that_made_offers  0.781182                  1.000000   0.654182  \n",
       "contracts                 0.258856                  0.654182   1.000000  "
      ]
     },
     "execution_count": 27,
     "metadata": {},
     "output_type": "execute_result"
    }
   ],
   "source": [
    "df_04.corr()"
   ]
  },
  {
   "cell_type": "code",
   "execution_count": 28,
   "metadata": {},
   "outputs": [
    {
     "data": {
      "image/png": "[encoded data removed]",
      "text/plain": [
       "<Figure size 1080x1080 with 42 Axes>"
      ]
     },
     "metadata": {},
     "output_type": "display_data"
    }
   ],
   "source": [
    "# Pairplot\n",
    "plt.style.use('ggplot')\n",
    "plot_01 = sns.pairplot(df_04 , palette='viridis')"
   ]
  },
  {
   "cell_type": "markdown",
   "metadata": {},
   "source": [
    "## Tenant Reviews"
   ]
  },
  {
   "cell_type": "markdown",
   "metadata": {},
   "source": [
    "Este dataset contem as informações de review das visitas agendadas na plataforma, contendo as seguintes informações: </p>\n",
    "\n",
    "> * visit_date: data da visita\n",
    "> * day: data da visita\n",
    "> * time: horário agendado da visita\n",
    "> * house_id: id do imovel\n",
    "> * neighbourhood: bairro do imovel\n",
    "> * visitor: cliente que agendou a visita\n",
    "> * agent: corretor que realizou a visita\n",
    "> * review: nota entre 0 e 5 de avaliação do imóvel</p>\n",
    "\n",
    "Os seguintes indicadores obtiveram crescimento dentro do periodo analisado: visitantes, agentes, bairros e casas. </p> Apesar dos números apresentados o resultado em obtenção de contratos continua a diminiuir.\n",
    "\n",
    "* Qual a qualidade das casas apresentadas e o treinamento e qualidade dos atendimentos dados pelos corretores?</p>\n",
    "* Qual era o cenário no primeiro trimestre, que houve um bom numero de fechamento de contratos?\n",
    "\n",
    "---\n",
    "\n",
    "variaveis booleanas (True/ False):\n",
    "\n",
    "> * building\n",
    "> * size\n",
    "> * price\n",
    "> * location\n",
    "> * did_not_like_the_location\n",
    "> * expected_a_better_preserved_property\n",
    "> * bigger_in_photos\n",
    "> * different_from_the_listing\n",
    "> * others: observações do cliente</p>\n",
    "\n",
    "As observações de conotação negativa: __did_not_like_the_location, expected_a_better_preserved_property, bigger_in_photos e different_from_the_listing__ não apresentaram um crescimento expressivo nas avaliações.</p> \n",
    "As observações que mais são adicionadas pelos usuários são: __conservation, size e location__\n",
    "\n",
    "Com base com os dados analisados neste dataset:</p> \n",
    "**Apesar de o registro de usuarios e imoveis na plataforma estar em crescimento os reviews a respeito da qualidade do imovel não teve o mesmo crescimento.**</p>\n",
    "**Criação de um monitor de desempenho por região e as características que mais pesam na tomada de decisão de fechamento do contrato. Acompanhar indicador afim de replicar o sucesso nos contratos fechados**</p>"
   ]
  },
  {
   "cell_type": "code",
   "execution_count": 29,
   "metadata": {},
   "outputs": [
    {
     "data": {
      "text/html": [
       "<div>\n",
       "<style scoped>\n",
       "    .dataframe tbody tr th:only-of-type {\n",
       "        vertical-align: middle;\n",
       "    }\n",
       "\n",
       "    .dataframe tbody tr th {\n",
       "        vertical-align: top;\n",
       "    }\n",
       "\n",
       "    .dataframe thead th {\n",
       "        text-align: right;\n",
       "    }\n",
       "</style>\n",
       "<table border=\"1\" class=\"dataframe\">\n",
       "  <thead>\n",
       "    <tr style=\"text-align: right;\">\n",
       "      <th></th>\n",
       "      <th>visit_date</th>\n",
       "      <th>day</th>\n",
       "      <th>time</th>\n",
       "      <th>house_id</th>\n",
       "      <th>neighbourhood</th>\n",
       "      <th>visitor</th>\n",
       "      <th>agent</th>\n",
       "      <th>review</th>\n",
       "      <th>building</th>\n",
       "      <th>conservation</th>\n",
       "      <th>size</th>\n",
       "      <th>price</th>\n",
       "      <th>location</th>\n",
       "      <th>did_not_like_the_location</th>\n",
       "      <th>expected_a_better_preserved_property</th>\n",
       "      <th>bigger_in_photos</th>\n",
       "      <th>different_from_the_listing</th>\n",
       "      <th>others</th>\n",
       "    </tr>\n",
       "  </thead>\n",
       "  <tbody>\n",
       "    <tr>\n",
       "      <th>0</th>\n",
       "      <td>2017-12-27</td>\n",
       "      <td>2017-12-27</td>\n",
       "      <td>12:30</td>\n",
       "      <td>892,815,605</td>\n",
       "      <td>Perdizes</td>\n",
       "      <td>Maria</td>\n",
       "      <td>Flávio</td>\n",
       "      <td>4</td>\n",
       "      <td>False</td>\n",
       "      <td>False</td>\n",
       "      <td>False</td>\n",
       "      <td>False</td>\n",
       "      <td>False</td>\n",
       "      <td>False</td>\n",
       "      <td>False</td>\n",
       "      <td>True</td>\n",
       "      <td>False</td>\n",
       "      <td>NaN</td>\n",
       "    </tr>\n",
       "    <tr>\n",
       "      <th>1</th>\n",
       "      <td>2018-01-03</td>\n",
       "      <td>1/3/2018</td>\n",
       "      <td>13:15</td>\n",
       "      <td>892,807,836</td>\n",
       "      <td>Vila Mariana</td>\n",
       "      <td>Katherine</td>\n",
       "      <td>José</td>\n",
       "      <td>3</td>\n",
       "      <td>False</td>\n",
       "      <td>False</td>\n",
       "      <td>False</td>\n",
       "      <td>False</td>\n",
       "      <td>False</td>\n",
       "      <td>False</td>\n",
       "      <td>False</td>\n",
       "      <td>False</td>\n",
       "      <td>False</td>\n",
       "      <td>o zelador muito inflexível. nos deixou pra for...</td>\n",
       "    </tr>\n",
       "    <tr>\n",
       "      <th>2</th>\n",
       "      <td>2018-01-03</td>\n",
       "      <td>2018-01-03</td>\n",
       "      <td>11:15</td>\n",
       "      <td>892,815,815</td>\n",
       "      <td>Jardim Paulista</td>\n",
       "      <td>Michelle</td>\n",
       "      <td>Sueli</td>\n",
       "      <td>Visita não aconteceu.</td>\n",
       "      <td>False</td>\n",
       "      <td>False</td>\n",
       "      <td>False</td>\n",
       "      <td>False</td>\n",
       "      <td>False</td>\n",
       "      <td>False</td>\n",
       "      <td>False</td>\n",
       "      <td>False</td>\n",
       "      <td>False</td>\n",
       "      <td>NaN</td>\n",
       "    </tr>\n",
       "    <tr>\n",
       "      <th>3</th>\n",
       "      <td>2018-01-03</td>\n",
       "      <td>2018-01-03</td>\n",
       "      <td>10:30</td>\n",
       "      <td>892,812,970</td>\n",
       "      <td>Jardim Paulista</td>\n",
       "      <td>Michelle</td>\n",
       "      <td>Sueli</td>\n",
       "      <td>Visita não aconteceu.</td>\n",
       "      <td>False</td>\n",
       "      <td>False</td>\n",
       "      <td>False</td>\n",
       "      <td>False</td>\n",
       "      <td>False</td>\n",
       "      <td>False</td>\n",
       "      <td>False</td>\n",
       "      <td>False</td>\n",
       "      <td>False</td>\n",
       "      <td>NaN</td>\n",
       "    </tr>\n",
       "    <tr>\n",
       "      <th>4</th>\n",
       "      <td>2018-01-03</td>\n",
       "      <td>2018-01-03</td>\n",
       "      <td>14:15</td>\n",
       "      <td>892,803,143</td>\n",
       "      <td>Consolação</td>\n",
       "      <td>Lívia</td>\n",
       "      <td>Juliana</td>\n",
       "      <td>Visita não aconteceu.</td>\n",
       "      <td>False</td>\n",
       "      <td>False</td>\n",
       "      <td>False</td>\n",
       "      <td>False</td>\n",
       "      <td>False</td>\n",
       "      <td>False</td>\n",
       "      <td>False</td>\n",
       "      <td>False</td>\n",
       "      <td>False</td>\n",
       "      <td>NaN</td>\n",
       "    </tr>\n",
       "  </tbody>\n",
       "</table>\n",
       "</div>"
      ],
      "text/plain": [
       "   visit_date         day   time     house_id    neighbourhood    visitor  \\\n",
       "0  2017-12-27  2017-12-27  12:30  892,815,605         Perdizes      Maria   \n",
       "1  2018-01-03    1/3/2018  13:15  892,807,836     Vila Mariana  Katherine   \n",
       "2  2018-01-03  2018-01-03  11:15  892,815,815  Jardim Paulista   Michelle   \n",
       "3  2018-01-03  2018-01-03  10:30  892,812,970  Jardim Paulista   Michelle   \n",
       "4  2018-01-03  2018-01-03  14:15  892,803,143       Consolação      Lívia   \n",
       "\n",
       "     agent                 review  building  conservation   size  price  \\\n",
       "0   Flávio                      4     False         False  False  False   \n",
       "1     José                      3     False         False  False  False   \n",
       "2    Sueli  Visita não aconteceu.     False         False  False  False   \n",
       "3    Sueli  Visita não aconteceu.     False         False  False  False   \n",
       "4  Juliana  Visita não aconteceu.     False         False  False  False   \n",
       "\n",
       "   location  did_not_like_the_location  expected_a_better_preserved_property  \\\n",
       "0     False                      False                                 False   \n",
       "1     False                      False                                 False   \n",
       "2     False                      False                                 False   \n",
       "3     False                      False                                 False   \n",
       "4     False                      False                                 False   \n",
       "\n",
       "   bigger_in_photos  different_from_the_listing  \\\n",
       "0              True                       False   \n",
       "1             False                       False   \n",
       "2             False                       False   \n",
       "3             False                       False   \n",
       "4             False                       False   \n",
       "\n",
       "                                              others  \n",
       "0                                                NaN  \n",
       "1  o zelador muito inflexível. nos deixou pra for...  \n",
       "2                                                NaN  \n",
       "3                                                NaN  \n",
       "4                                                NaN  "
      ]
     },
     "execution_count": 29,
     "metadata": {},
     "output_type": "execute_result"
    }
   ],
   "source": [
    "df_02.head()"
   ]
  },
  {
   "cell_type": "code",
   "execution_count": 30,
   "metadata": {},
   "outputs": [],
   "source": [
    "import stat"
   ]
  },
  {
   "cell_type": "code",
   "execution_count": 31,
   "metadata": {},
   "outputs": [
    {
     "name": "stdout",
     "output_type": "stream",
     "text": [
      "<class 'pandas.core.frame.DataFrame'>\n",
      "RangeIndex: 13470 entries, 0 to 13469\n",
      "Data columns (total 18 columns):\n",
      " #   Column                                Non-Null Count  Dtype \n",
      "---  ------                                --------------  ----- \n",
      " 0   visit_date                            13470 non-null  object\n",
      " 1   day                                   13470 non-null  object\n",
      " 2   time                                  13470 non-null  object\n",
      " 3   house_id                              13470 non-null  object\n",
      " 4   neighbourhood                         13468 non-null  object\n",
      " 5   visitor                               13470 non-null  object\n",
      " 6   agent                                 13470 non-null  object\n",
      " 7   review                                13470 non-null  object\n",
      " 8   building                              13470 non-null  bool  \n",
      " 9   conservation                          13470 non-null  bool  \n",
      " 10  size                                  13470 non-null  bool  \n",
      " 11  price                                 13470 non-null  bool  \n",
      " 12  location                              13470 non-null  bool  \n",
      " 13  did_not_like_the_location             13470 non-null  bool  \n",
      " 14  expected_a_better_preserved_property  13470 non-null  bool  \n",
      " 15  bigger_in_photos                      13470 non-null  bool  \n",
      " 16  different_from_the_listing            13470 non-null  bool  \n",
      " 17  others                                1700 non-null   object\n",
      "dtypes: bool(9), object(9)\n",
      "memory usage: 1.0+ MB\n"
     ]
    }
   ],
   "source": [
    "df_02.info()"
   ]
  },
  {
   "cell_type": "markdown",
   "metadata": {},
   "source": [
    "### 1.1 - visit_date"
   ]
  },
  {
   "cell_type": "code",
   "execution_count": 32,
   "metadata": {},
   "outputs": [
    {
     "data": {
      "text/plain": [
       "'2017-12-27'"
      ]
     },
     "execution_count": 32,
     "metadata": {},
     "output_type": "execute_result"
    }
   ],
   "source": [
    "df_02['visit_date'].min()"
   ]
  },
  {
   "cell_type": "code",
   "execution_count": 33,
   "metadata": {},
   "outputs": [
    {
     "data": {
      "text/plain": [
       "'2018-08-31'"
      ]
     },
     "execution_count": 33,
     "metadata": {},
     "output_type": "execute_result"
    }
   ],
   "source": [
    "df_02['visit_date'].max()"
   ]
  },
  {
   "cell_type": "code",
   "execution_count": 34,
   "metadata": {},
   "outputs": [],
   "source": [
    "df_02[['year', 'month', 'day']] = df_02['visit_date'].str.split('-', expand=True)"
   ]
  },
  {
   "cell_type": "code",
   "execution_count": 35,
   "metadata": {},
   "outputs": [
    {
     "name": "stdout",
     "output_type": "stream",
     "text": [
      "<class 'pandas.core.frame.DataFrame'>\n",
      "RangeIndex: 13470 entries, 0 to 13469\n",
      "Data columns (total 20 columns):\n",
      " #   Column                                Non-Null Count  Dtype \n",
      "---  ------                                --------------  ----- \n",
      " 0   visit_date                            13470 non-null  object\n",
      " 1   day                                   13470 non-null  object\n",
      " 2   time                                  13470 non-null  object\n",
      " 3   house_id                              13470 non-null  object\n",
      " 4   neighbourhood                         13468 non-null  object\n",
      " 5   visitor                               13470 non-null  object\n",
      " 6   agent                                 13470 non-null  object\n",
      " 7   review                                13470 non-null  object\n",
      " 8   building                              13470 non-null  bool  \n",
      " 9   conservation                          13470 non-null  bool  \n",
      " 10  size                                  13470 non-null  bool  \n",
      " 11  price                                 13470 non-null  bool  \n",
      " 12  location                              13470 non-null  bool  \n",
      " 13  did_not_like_the_location             13470 non-null  bool  \n",
      " 14  expected_a_better_preserved_property  13470 non-null  bool  \n",
      " 15  bigger_in_photos                      13470 non-null  bool  \n",
      " 16  different_from_the_listing            13470 non-null  bool  \n",
      " 17  others                                1700 non-null   object\n",
      " 18  year                                  13470 non-null  object\n",
      " 19  month                                 13470 non-null  object\n",
      "dtypes: bool(9), object(11)\n",
      "memory usage: 1.2+ MB\n"
     ]
    }
   ],
   "source": [
    "df_02.info()"
   ]
  },
  {
   "cell_type": "code",
   "execution_count": 36,
   "metadata": {},
   "outputs": [],
   "source": [
    "df_02 = df_02[df_02['year'] != '2017']"
   ]
  },
  {
   "cell_type": "markdown",
   "metadata": {},
   "source": [
    "### 1.2 - review"
   ]
  },
  {
   "cell_type": "code",
   "execution_count": 37,
   "metadata": {},
   "outputs": [
    {
     "data": {
      "text/html": [
       "<div>\n",
       "<style scoped>\n",
       "    .dataframe tbody tr th:only-of-type {\n",
       "        vertical-align: middle;\n",
       "    }\n",
       "\n",
       "    .dataframe tbody tr th {\n",
       "        vertical-align: top;\n",
       "    }\n",
       "\n",
       "    .dataframe thead th {\n",
       "        text-align: right;\n",
       "    }\n",
       "</style>\n",
       "<table border=\"1\" class=\"dataframe\">\n",
       "  <thead>\n",
       "    <tr style=\"text-align: right;\">\n",
       "      <th></th>\n",
       "      <th>total_reviews</th>\n",
       "    </tr>\n",
       "    <tr>\n",
       "      <th>review</th>\n",
       "      <th></th>\n",
       "    </tr>\n",
       "  </thead>\n",
       "  <tbody>\n",
       "    <tr>\n",
       "      <th>1</th>\n",
       "      <td>364</td>\n",
       "    </tr>\n",
       "    <tr>\n",
       "      <th>2</th>\n",
       "      <td>635</td>\n",
       "    </tr>\n",
       "    <tr>\n",
       "      <th>3</th>\n",
       "      <td>1416</td>\n",
       "    </tr>\n",
       "    <tr>\n",
       "      <th>4</th>\n",
       "      <td>2049</td>\n",
       "    </tr>\n",
       "    <tr>\n",
       "      <th>5</th>\n",
       "      <td>5671</td>\n",
       "    </tr>\n",
       "    <tr>\n",
       "      <th>EntradaNaoAutorizada</th>\n",
       "      <td>1</td>\n",
       "    </tr>\n",
       "    <tr>\n",
       "      <th>VaiNegociar</th>\n",
       "      <td>30</td>\n",
       "    </tr>\n",
       "    <tr>\n",
       "      <th>Visita não aconteceu.</th>\n",
       "      <td>3300</td>\n",
       "    </tr>\n",
       "  </tbody>\n",
       "</table>\n",
       "</div>"
      ],
      "text/plain": [
       "                       total_reviews\n",
       "review                              \n",
       "1                                364\n",
       "2                                635\n",
       "3                               1416\n",
       "4                               2049\n",
       "5                               5671\n",
       "EntradaNaoAutorizada               1\n",
       "VaiNegociar                       30\n",
       "Visita não aconteceu.           3300"
      ]
     },
     "execution_count": 37,
     "metadata": {},
     "output_type": "execute_result"
    }
   ],
   "source": [
    "review_analise = df_02.groupby('review').agg({'month' : 'count'})\n",
    "review_analise = review_analise.rename(columns = {'month' : 'total_reviews'})\n",
    "review_analise"
   ]
  },
  {
   "cell_type": "code",
   "execution_count": 38,
   "metadata": {},
   "outputs": [],
   "source": [
    "# Visitas que não aconteceram geram registro no banco de dados mas para a analise apenas temos os dados enviezados. Estas anotações serão excluidas do analise\n",
    "df_02 = df_02[df_02['review'] != 'Visita não aconteceu.']"
   ]
  },
  {
   "cell_type": "code",
   "execution_count": 39,
   "metadata": {},
   "outputs": [
    {
     "data": {
      "text/html": [
       "<div>\n",
       "<style scoped>\n",
       "    .dataframe tbody tr th:only-of-type {\n",
       "        vertical-align: middle;\n",
       "    }\n",
       "\n",
       "    .dataframe tbody tr th {\n",
       "        vertical-align: top;\n",
       "    }\n",
       "\n",
       "    .dataframe thead th {\n",
       "        text-align: right;\n",
       "    }\n",
       "</style>\n",
       "<table border=\"1\" class=\"dataframe\">\n",
       "  <thead>\n",
       "    <tr style=\"text-align: right;\">\n",
       "      <th></th>\n",
       "      <th></th>\n",
       "      <th>review</th>\n",
       "    </tr>\n",
       "    <tr>\n",
       "      <th>month</th>\n",
       "      <th>review</th>\n",
       "      <th></th>\n",
       "    </tr>\n",
       "  </thead>\n",
       "  <tbody>\n",
       "    <tr>\n",
       "      <th rowspan=\"6\" valign=\"top\">01</th>\n",
       "      <th>1</th>\n",
       "      <td>36</td>\n",
       "    </tr>\n",
       "    <tr>\n",
       "      <th>2</th>\n",
       "      <td>50</td>\n",
       "    </tr>\n",
       "    <tr>\n",
       "      <th>3</th>\n",
       "      <td>155</td>\n",
       "    </tr>\n",
       "    <tr>\n",
       "      <th>4</th>\n",
       "      <td>184</td>\n",
       "    </tr>\n",
       "    <tr>\n",
       "      <th>5</th>\n",
       "      <td>485</td>\n",
       "    </tr>\n",
       "    <tr>\n",
       "      <th>VaiNegociar</th>\n",
       "      <td>3</td>\n",
       "    </tr>\n",
       "    <tr>\n",
       "      <th rowspan=\"5\" valign=\"top\">02</th>\n",
       "      <th>1</th>\n",
       "      <td>39</td>\n",
       "    </tr>\n",
       "    <tr>\n",
       "      <th>2</th>\n",
       "      <td>70</td>\n",
       "    </tr>\n",
       "    <tr>\n",
       "      <th>3</th>\n",
       "      <td>161</td>\n",
       "    </tr>\n",
       "    <tr>\n",
       "      <th>4</th>\n",
       "      <td>192</td>\n",
       "    </tr>\n",
       "    <tr>\n",
       "      <th>5</th>\n",
       "      <td>522</td>\n",
       "    </tr>\n",
       "    <tr>\n",
       "      <th rowspan=\"5\" valign=\"top\">03</th>\n",
       "      <th>1</th>\n",
       "      <td>57</td>\n",
       "    </tr>\n",
       "    <tr>\n",
       "      <th>2</th>\n",
       "      <td>81</td>\n",
       "    </tr>\n",
       "    <tr>\n",
       "      <th>3</th>\n",
       "      <td>173</td>\n",
       "    </tr>\n",
       "    <tr>\n",
       "      <th>4</th>\n",
       "      <td>247</td>\n",
       "    </tr>\n",
       "    <tr>\n",
       "      <th>5</th>\n",
       "      <td>708</td>\n",
       "    </tr>\n",
       "    <tr>\n",
       "      <th rowspan=\"6\" valign=\"top\">04</th>\n",
       "      <th>1</th>\n",
       "      <td>38</td>\n",
       "    </tr>\n",
       "    <tr>\n",
       "      <th>2</th>\n",
       "      <td>94</td>\n",
       "    </tr>\n",
       "    <tr>\n",
       "      <th>3</th>\n",
       "      <td>159</td>\n",
       "    </tr>\n",
       "    <tr>\n",
       "      <th>4</th>\n",
       "      <td>215</td>\n",
       "    </tr>\n",
       "    <tr>\n",
       "      <th>5</th>\n",
       "      <td>568</td>\n",
       "    </tr>\n",
       "    <tr>\n",
       "      <th>VaiNegociar</th>\n",
       "      <td>3</td>\n",
       "    </tr>\n",
       "    <tr>\n",
       "      <th rowspan=\"6\" valign=\"top\">05</th>\n",
       "      <th>1</th>\n",
       "      <td>37</td>\n",
       "    </tr>\n",
       "    <tr>\n",
       "      <th>2</th>\n",
       "      <td>53</td>\n",
       "    </tr>\n",
       "    <tr>\n",
       "      <th>3</th>\n",
       "      <td>118</td>\n",
       "    </tr>\n",
       "    <tr>\n",
       "      <th>4</th>\n",
       "      <td>211</td>\n",
       "    </tr>\n",
       "    <tr>\n",
       "      <th>5</th>\n",
       "      <td>519</td>\n",
       "    </tr>\n",
       "    <tr>\n",
       "      <th>VaiNegociar</th>\n",
       "      <td>1</td>\n",
       "    </tr>\n",
       "    <tr>\n",
       "      <th rowspan=\"7\" valign=\"top\">06</th>\n",
       "      <th>1</th>\n",
       "      <td>46</td>\n",
       "    </tr>\n",
       "    <tr>\n",
       "      <th>2</th>\n",
       "      <td>73</td>\n",
       "    </tr>\n",
       "    <tr>\n",
       "      <th>3</th>\n",
       "      <td>179</td>\n",
       "    </tr>\n",
       "    <tr>\n",
       "      <th>4</th>\n",
       "      <td>271</td>\n",
       "    </tr>\n",
       "    <tr>\n",
       "      <th>5</th>\n",
       "      <td>765</td>\n",
       "    </tr>\n",
       "    <tr>\n",
       "      <th>EntradaNaoAutorizada</th>\n",
       "      <td>1</td>\n",
       "    </tr>\n",
       "    <tr>\n",
       "      <th>VaiNegociar</th>\n",
       "      <td>8</td>\n",
       "    </tr>\n",
       "    <tr>\n",
       "      <th rowspan=\"6\" valign=\"top\">07</th>\n",
       "      <th>1</th>\n",
       "      <td>44</td>\n",
       "    </tr>\n",
       "    <tr>\n",
       "      <th>2</th>\n",
       "      <td>97</td>\n",
       "    </tr>\n",
       "    <tr>\n",
       "      <th>3</th>\n",
       "      <td>210</td>\n",
       "    </tr>\n",
       "    <tr>\n",
       "      <th>4</th>\n",
       "      <td>321</td>\n",
       "    </tr>\n",
       "    <tr>\n",
       "      <th>5</th>\n",
       "      <td>873</td>\n",
       "    </tr>\n",
       "    <tr>\n",
       "      <th>VaiNegociar</th>\n",
       "      <td>7</td>\n",
       "    </tr>\n",
       "    <tr>\n",
       "      <th rowspan=\"6\" valign=\"top\">08</th>\n",
       "      <th>1</th>\n",
       "      <td>67</td>\n",
       "    </tr>\n",
       "    <tr>\n",
       "      <th>2</th>\n",
       "      <td>117</td>\n",
       "    </tr>\n",
       "    <tr>\n",
       "      <th>3</th>\n",
       "      <td>261</td>\n",
       "    </tr>\n",
       "    <tr>\n",
       "      <th>4</th>\n",
       "      <td>408</td>\n",
       "    </tr>\n",
       "    <tr>\n",
       "      <th>5</th>\n",
       "      <td>1231</td>\n",
       "    </tr>\n",
       "    <tr>\n",
       "      <th>VaiNegociar</th>\n",
       "      <td>8</td>\n",
       "    </tr>\n",
       "  </tbody>\n",
       "</table>\n",
       "</div>"
      ],
      "text/plain": [
       "                            review\n",
       "month review                      \n",
       "01    1                         36\n",
       "      2                         50\n",
       "      3                        155\n",
       "      4                        184\n",
       "      5                        485\n",
       "      VaiNegociar                3\n",
       "02    1                         39\n",
       "      2                         70\n",
       "      3                        161\n",
       "      4                        192\n",
       "      5                        522\n",
       "03    1                         57\n",
       "      2                         81\n",
       "      3                        173\n",
       "      4                        247\n",
       "      5                        708\n",
       "04    1                         38\n",
       "      2                         94\n",
       "      3                        159\n",
       "      4                        215\n",
       "      5                        568\n",
       "      VaiNegociar                3\n",
       "05    1                         37\n",
       "      2                         53\n",
       "      3                        118\n",
       "      4                        211\n",
       "      5                        519\n",
       "      VaiNegociar                1\n",
       "06    1                         46\n",
       "      2                         73\n",
       "      3                        179\n",
       "      4                        271\n",
       "      5                        765\n",
       "      EntradaNaoAutorizada       1\n",
       "      VaiNegociar                8\n",
       "07    1                         44\n",
       "      2                         97\n",
       "      3                        210\n",
       "      4                        321\n",
       "      5                        873\n",
       "      VaiNegociar                7\n",
       "08    1                         67\n",
       "      2                        117\n",
       "      3                        261\n",
       "      4                        408\n",
       "      5                       1231\n",
       "      VaiNegociar                8"
      ]
     },
     "execution_count": 39,
     "metadata": {},
     "output_type": "execute_result"
    }
   ],
   "source": [
    "review_analise = df_02.groupby(['month', 'review']).agg({'review' : 'count'}).fillna(0)\n",
    "review_analise"
   ]
  },
  {
   "cell_type": "code",
   "execution_count": 40,
   "metadata": {},
   "outputs": [
    {
     "ename": "ValueError",
     "evalue": "No axis named month for object type DataFrame",
     "output_type": "error",
     "traceback": [
      "\u001b[1;31m---------------------------------------------------------------------------\u001b[0m",
      "\u001b[1;31mKeyError\u001b[0m                                  Traceback (most recent call last)",
      "\u001b[1;32m~\\Anaconda3\\lib\\site-packages\\pandas\\core\\generic.py\u001b[0m in \u001b[0;36m_get_axis_number\u001b[1;34m(cls, axis)\u001b[0m\n\u001b[0;32m    459\u001b[0m         \u001b[1;32mtry\u001b[0m\u001b[1;33m:\u001b[0m\u001b[1;33m\u001b[0m\u001b[1;33m\u001b[0m\u001b[0m\n\u001b[1;32m--> 460\u001b[1;33m             \u001b[1;32mreturn\u001b[0m \u001b[0mcls\u001b[0m\u001b[1;33m.\u001b[0m\u001b[0m_AXIS_TO_AXIS_NUMBER\u001b[0m\u001b[1;33m[\u001b[0m\u001b[0maxis\u001b[0m\u001b[1;33m]\u001b[0m\u001b[1;33m\u001b[0m\u001b[1;33m\u001b[0m\u001b[0m\n\u001b[0m\u001b[0;32m    461\u001b[0m         \u001b[1;32mexcept\u001b[0m \u001b[0mKeyError\u001b[0m\u001b[1;33m:\u001b[0m\u001b[1;33m\u001b[0m\u001b[1;33m\u001b[0m\u001b[0m\n",
      "\u001b[1;31mKeyError\u001b[0m: 'month'",
      "\nDuring handling of the above exception, another exception occurred:\n",
      "\u001b[1;31mValueError\u001b[0m                                Traceback (most recent call last)",
      "\u001b[1;32m~\\AppData\\Local\\Temp\\ipykernel_11724\\1304270491.py\u001b[0m in \u001b[0;36m<module>\u001b[1;34m\u001b[0m\n\u001b[1;32m----> 1\u001b[1;33m \u001b[0mreview_analise\u001b[0m \u001b[1;33m=\u001b[0m \u001b[0mdf_02\u001b[0m\u001b[1;33m.\u001b[0m\u001b[0mgroupby\u001b[0m\u001b[1;33m(\u001b[0m\u001b[1;34m'review'\u001b[0m\u001b[1;33m,\u001b[0m \u001b[1;34m'month'\u001b[0m\u001b[1;33m)\u001b[0m\u001b[1;33m.\u001b[0m\u001b[0magg\u001b[0m\u001b[1;33m(\u001b[0m\u001b[1;33m{\u001b[0m\u001b[1;34m'month'\u001b[0m \u001b[1;33m:\u001b[0m \u001b[1;34m'count'\u001b[0m\u001b[1;33m}\u001b[0m\u001b[1;33m)\u001b[0m\u001b[1;33m\u001b[0m\u001b[1;33m\u001b[0m\u001b[0m\n\u001b[0m\u001b[0;32m      2\u001b[0m \u001b[0mreview_analise\u001b[0m\u001b[1;33m\u001b[0m\u001b[1;33m\u001b[0m\u001b[0m\n",
      "\u001b[1;32m~\\Anaconda3\\lib\\site-packages\\pandas\\core\\frame.py\u001b[0m in \u001b[0;36mgroupby\u001b[1;34m(self, by, axis, level, as_index, sort, group_keys, squeeze, observed, dropna)\u001b[0m\n\u001b[0;32m   6713\u001b[0m         \u001b[1;32mif\u001b[0m \u001b[0mlevel\u001b[0m \u001b[1;32mis\u001b[0m \u001b[1;32mNone\u001b[0m \u001b[1;32mand\u001b[0m \u001b[0mby\u001b[0m \u001b[1;32mis\u001b[0m \u001b[1;32mNone\u001b[0m\u001b[1;33m:\u001b[0m\u001b[1;33m\u001b[0m\u001b[1;33m\u001b[0m\u001b[0m\n\u001b[0;32m   6714\u001b[0m             \u001b[1;32mraise\u001b[0m \u001b[0mTypeError\u001b[0m\u001b[1;33m(\u001b[0m\u001b[1;34m\"You have to supply one of 'by' and 'level'\"\u001b[0m\u001b[1;33m)\u001b[0m\u001b[1;33m\u001b[0m\u001b[1;33m\u001b[0m\u001b[0m\n\u001b[1;32m-> 6715\u001b[1;33m         \u001b[0maxis\u001b[0m \u001b[1;33m=\u001b[0m \u001b[0mself\u001b[0m\u001b[1;33m.\u001b[0m\u001b[0m_get_axis_number\u001b[0m\u001b[1;33m(\u001b[0m\u001b[0maxis\u001b[0m\u001b[1;33m)\u001b[0m\u001b[1;33m\u001b[0m\u001b[1;33m\u001b[0m\u001b[0m\n\u001b[0m\u001b[0;32m   6716\u001b[0m \u001b[1;33m\u001b[0m\u001b[0m\n\u001b[0;32m   6717\u001b[0m         return DataFrameGroupBy(\n",
      "\u001b[1;32m~\\Anaconda3\\lib\\site-packages\\pandas\\core\\generic.py\u001b[0m in \u001b[0;36m_get_axis_number\u001b[1;34m(cls, axis)\u001b[0m\n\u001b[0;32m    460\u001b[0m             \u001b[1;32mreturn\u001b[0m \u001b[0mcls\u001b[0m\u001b[1;33m.\u001b[0m\u001b[0m_AXIS_TO_AXIS_NUMBER\u001b[0m\u001b[1;33m[\u001b[0m\u001b[0maxis\u001b[0m\u001b[1;33m]\u001b[0m\u001b[1;33m\u001b[0m\u001b[1;33m\u001b[0m\u001b[0m\n\u001b[0;32m    461\u001b[0m         \u001b[1;32mexcept\u001b[0m \u001b[0mKeyError\u001b[0m\u001b[1;33m:\u001b[0m\u001b[1;33m\u001b[0m\u001b[1;33m\u001b[0m\u001b[0m\n\u001b[1;32m--> 462\u001b[1;33m             \u001b[1;32mraise\u001b[0m \u001b[0mValueError\u001b[0m\u001b[1;33m(\u001b[0m\u001b[1;34mf\"No axis named {axis} for object type {cls.__name__}\"\u001b[0m\u001b[1;33m)\u001b[0m\u001b[1;33m\u001b[0m\u001b[1;33m\u001b[0m\u001b[0m\n\u001b[0m\u001b[0;32m    463\u001b[0m \u001b[1;33m\u001b[0m\u001b[0m\n\u001b[0;32m    464\u001b[0m     \u001b[1;33m@\u001b[0m\u001b[0mfinal\u001b[0m\u001b[1;33m\u001b[0m\u001b[1;33m\u001b[0m\u001b[0m\n",
      "\u001b[1;31mValueError\u001b[0m: No axis named month for object type DataFrame"
     ]
    }
   ],
   "source": [
    "review_analise = df_02.groupby('review', 'month').agg({'month' : 'count'})\n",
    "review_analise"
   ]
  },
  {
   "cell_type": "markdown",
   "metadata": {},
   "source": [
    "## 1.2 - house_id\n",
    "\n",
    "#### 1.2.1 - Numero de Imoveis com Registro de Visita na Plataforma\n",
    "Abaixo temos a progressão de numeros unicos de imoveis que receberam visitas. Mais imoveis estão sendo anunciados e tendo visitas agendadas desde o inicio do periodo analisado"
   ]
  },
  {
   "cell_type": "code",
   "execution_count": 41,
   "metadata": {},
   "outputs": [
    {
     "data": {
      "text/plain": [
       "5312"
      ]
     },
     "execution_count": 41,
     "metadata": {},
     "output_type": "execute_result"
    }
   ],
   "source": [
    "df_02['house_id'].nunique()"
   ]
  },
  {
   "cell_type": "code",
   "execution_count": 42,
   "metadata": {},
   "outputs": [
    {
     "data": {
      "image/png": "[encoded data removed]",
      "text/plain": [
       "<Figure size 540x360 with 1 Axes>"
      ]
     },
     "metadata": {},
     "output_type": "display_data"
    }
   ],
   "source": [
    "# O numero de imoveis cadastrados na plataforma aumentou, esta mudança se deve ao fator de menos contratos estarem sendo assinados? \n",
    "# Ou o fato de mais imoveis cadastrados fez que o numero total de contratos assinados diminuissem?\n",
    "\n",
    "x = df_02.groupby('month').agg({'house_id' : 'nunique'}).reset_index()\n",
    "\n",
    "plt.style.use('ggplot')\n",
    "g = sns.FacetGrid(x, size=5, aspect=1.5)\n",
    "g.map(sns.barplot, \"month\", \"house_id\", palette='viridis')\n",
    "\n",
    "plt.show()"
   ]
  },
  {
   "cell_type": "markdown",
   "metadata": {},
   "source": [
    "#### 1.2.2 - number of visits \n",
    "Abaixo temos a quantidade de visitas agendadas na plataforma. O numero de visitas agendadas desde o inicio do periodo analisado esta em crescimento, ultrapassando a média total.</p>\n",
    "A linha vermelha representa a média aparada (10%)"
   ]
  },
  {
   "cell_type": "code",
   "execution_count": 43,
   "metadata": {},
   "outputs": [
    {
     "data": {
      "image/png": "[encoded data removed]",
      "text/plain": [
       "<Figure size 540x360 with 1 Axes>"
      ]
     },
     "metadata": {},
     "output_type": "display_data"
    }
   ],
   "source": [
    "# O numero de visitas também aumentou ao longo dos meses, sendo que no ultimo trimestre este numero esta acima da média \n",
    "\n",
    "x = df_02.groupby('month').agg({'house_id' : 'count'}).reset_index()\n",
    "\n",
    "plt.style.use('ggplot')\n",
    "g = sns.FacetGrid(x, size=5, aspect=1.5)\n",
    "g.map(sns.barplot, \"month\", \"house_id\", palette = 'viridis')\n",
    "\n",
    "# For this case we'll use the trimmed mean to compare the number of tenants that made offers along time\n",
    "plt.axhline(stats.trim_mean(x['house_id'].astype('float'), 0.1))\n",
    "\n",
    "plt.show()"
   ]
  },
  {
   "cell_type": "markdown",
   "metadata": {},
   "source": [
    "### 1.3 - neighbourhood\n",
    "Abaixo temos a progressão de bairros que receberam visitas. Dentro do periodo analisado o ultimo trimestre apresenta a maior capilaridade de bairros."
   ]
  },
  {
   "cell_type": "code",
   "execution_count": 44,
   "metadata": {},
   "outputs": [
    {
     "data": {
      "text/plain": [
       "294"
      ]
     },
     "execution_count": 44,
     "metadata": {},
     "output_type": "execute_result"
    }
   ],
   "source": [
    "df_02['neighbourhood'].nunique()"
   ]
  },
  {
   "cell_type": "code",
   "execution_count": 45,
   "metadata": {},
   "outputs": [
    {
     "data": {
      "image/png": "[encoded data removed]",
      "text/plain": [
       "<Figure size 540x360 with 1 Axes>"
      ]
     },
     "metadata": {},
     "output_type": "display_data"
    }
   ],
   "source": [
    "x = df_02.groupby('month').agg({'neighbourhood' : 'nunique'}).reset_index()\n",
    "\n",
    "plt.style.use('ggplot')\n",
    "g = sns.FacetGrid(x, size=5, aspect=1.5)\n",
    "g.map(sns.barplot, \"month\", \"neighbourhood\", palette='viridis')\n",
    "\n",
    "plt.show()"
   ]
  },
  {
   "cell_type": "markdown",
   "metadata": {},
   "source": [
    "### 1.4 - visitor"
   ]
  },
  {
   "cell_type": "code",
   "execution_count": 46,
   "metadata": {},
   "outputs": [
    {
     "data": {
      "text/plain": [
       "1271"
      ]
     },
     "execution_count": 46,
     "metadata": {},
     "output_type": "execute_result"
    }
   ],
   "source": [
    "df_02['visitor'].nunique()"
   ]
  },
  {
   "cell_type": "code",
   "execution_count": 47,
   "metadata": {},
   "outputs": [
    {
     "data": {
      "image/png": "[encoded data removed]",
      "text/plain": [
       "<Figure size 540x360 with 1 Axes>"
      ]
     },
     "metadata": {},
     "output_type": "display_data"
    }
   ],
   "source": [
    "x = df_02.groupby('month').agg({'visitor' : 'nunique'}).reset_index()\n",
    "\n",
    "plt.style.use('ggplot')\n",
    "g = sns.FacetGrid(x, size=5, aspect=1.5)\n",
    "g.map(sns.barplot, \"month\", \"visitor\", palette='viridis')\n",
    "\n",
    "plt.show()"
   ]
  },
  {
   "cell_type": "code",
   "execution_count": 48,
   "metadata": {},
   "outputs": [
    {
     "data": {
      "image/png": "[encoded data removed]",
      "text/plain": [
       "<Figure size 540x360 with 1 Axes>"
      ]
     },
     "metadata": {},
     "output_type": "display_data"
    }
   ],
   "source": [
    "# O numero de regioes com imovel registrados na plataforma aumentou nos ultimos meses, ou seja, a plataforma esta crescendo a capilaridade.\n",
    "\n",
    "x = df_02.groupby('month').agg({'visitor' : 'count'}).reset_index()\n",
    "\n",
    "plt.style.use('ggplot')\n",
    "g = sns.FacetGrid(x, size=5, aspect=1.5)\n",
    "g.map(sns.barplot, \"month\", \"visitor\", palette='viridis')\n",
    "\n",
    "plt.show()"
   ]
  },
  {
   "cell_type": "markdown",
   "metadata": {},
   "source": [
    "### 1.5 - agent\n",
    "\n",
    "Abaixo temos a progressão de corretores que agendaram visitas. Dentro do periodo analisado o ultimo trimestre apresenta a maior numero de agentes que agendaram visitas."
   ]
  },
  {
   "cell_type": "code",
   "execution_count": 49,
   "metadata": {},
   "outputs": [
    {
     "data": {
      "image/png": "[encoded data removed]",
      "text/plain": [
       "<Figure size 540x360 with 1 Axes>"
      ]
     },
     "metadata": {},
     "output_type": "display_data"
    }
   ],
   "source": [
    "x = df_02.groupby('month').agg({'agent' : 'nunique'}).reset_index()\n",
    "\n",
    "plt.style.use('ggplot')\n",
    "g = sns.FacetGrid(x, size=5, aspect=1.5)\n",
    "g.map(sns.barplot, \"month\", \"agent\", palette='viridis')\n",
    "\n",
    "plt.show()"
   ]
  },
  {
   "cell_type": "markdown",
   "metadata": {},
   "source": [
    "## 1.8 - Boolean Features\n",
    "\n",
    "* building \n",
    "* conservation   \n",
    "* size  \n",
    "* price    \n",
    "* location  \n",
    "* did_not_like_the_location \n",
    "* expected_a_better_preserved_property\n",
    "* bigger_in_photos\n",
    "* different_from_the_listing"
   ]
  },
  {
   "cell_type": "code",
   "execution_count": 50,
   "metadata": {},
   "outputs": [
    {
     "data": {
      "text/html": [
       "<div>\n",
       "<style scoped>\n",
       "    .dataframe tbody tr th:only-of-type {\n",
       "        vertical-align: middle;\n",
       "    }\n",
       "\n",
       "    .dataframe tbody tr th {\n",
       "        vertical-align: top;\n",
       "    }\n",
       "\n",
       "    .dataframe thead th {\n",
       "        text-align: right;\n",
       "    }\n",
       "</style>\n",
       "<table border=\"1\" class=\"dataframe\">\n",
       "  <thead>\n",
       "    <tr style=\"text-align: right;\">\n",
       "      <th></th>\n",
       "      <th>building</th>\n",
       "      <th>conservation</th>\n",
       "      <th>size</th>\n",
       "      <th>price</th>\n",
       "      <th>location</th>\n",
       "      <th>did_not_like_the_location</th>\n",
       "      <th>expected_a_better_preserved_property</th>\n",
       "      <th>bigger_in_photos</th>\n",
       "      <th>different_from_the_listing</th>\n",
       "      <th>month</th>\n",
       "    </tr>\n",
       "  </thead>\n",
       "  <tbody>\n",
       "    <tr>\n",
       "      <th>1</th>\n",
       "      <td>False</td>\n",
       "      <td>False</td>\n",
       "      <td>False</td>\n",
       "      <td>False</td>\n",
       "      <td>False</td>\n",
       "      <td>False</td>\n",
       "      <td>False</td>\n",
       "      <td>False</td>\n",
       "      <td>False</td>\n",
       "      <td>01</td>\n",
       "    </tr>\n",
       "    <tr>\n",
       "      <th>6</th>\n",
       "      <td>False</td>\n",
       "      <td>False</td>\n",
       "      <td>False</td>\n",
       "      <td>False</td>\n",
       "      <td>False</td>\n",
       "      <td>False</td>\n",
       "      <td>False</td>\n",
       "      <td>False</td>\n",
       "      <td>True</td>\n",
       "      <td>01</td>\n",
       "    </tr>\n",
       "    <tr>\n",
       "      <th>7</th>\n",
       "      <td>True</td>\n",
       "      <td>True</td>\n",
       "      <td>False</td>\n",
       "      <td>False</td>\n",
       "      <td>False</td>\n",
       "      <td>False</td>\n",
       "      <td>False</td>\n",
       "      <td>False</td>\n",
       "      <td>False</td>\n",
       "      <td>01</td>\n",
       "    </tr>\n",
       "    <tr>\n",
       "      <th>8</th>\n",
       "      <td>False</td>\n",
       "      <td>False</td>\n",
       "      <td>False</td>\n",
       "      <td>False</td>\n",
       "      <td>False</td>\n",
       "      <td>False</td>\n",
       "      <td>False</td>\n",
       "      <td>True</td>\n",
       "      <td>False</td>\n",
       "      <td>01</td>\n",
       "    </tr>\n",
       "    <tr>\n",
       "      <th>9</th>\n",
       "      <td>True</td>\n",
       "      <td>True</td>\n",
       "      <td>True</td>\n",
       "      <td>False</td>\n",
       "      <td>True</td>\n",
       "      <td>False</td>\n",
       "      <td>False</td>\n",
       "      <td>False</td>\n",
       "      <td>False</td>\n",
       "      <td>01</td>\n",
       "    </tr>\n",
       "  </tbody>\n",
       "</table>\n",
       "</div>"
      ],
      "text/plain": [
       "   building  conservation   size  price  location  did_not_like_the_location  \\\n",
       "1     False         False  False  False     False                      False   \n",
       "6     False         False  False  False     False                      False   \n",
       "7      True          True  False  False     False                      False   \n",
       "8     False         False  False  False     False                      False   \n",
       "9      True          True   True  False      True                      False   \n",
       "\n",
       "   expected_a_better_preserved_property  bigger_in_photos  \\\n",
       "1                                 False             False   \n",
       "6                                 False             False   \n",
       "7                                 False             False   \n",
       "8                                 False              True   \n",
       "9                                 False             False   \n",
       "\n",
       "   different_from_the_listing month  \n",
       "1                       False    01  \n",
       "6                        True    01  \n",
       "7                       False    01  \n",
       "8                       False    01  \n",
       "9                       False    01  "
      ]
     },
     "execution_count": 50,
     "metadata": {},
     "output_type": "execute_result"
    }
   ],
   "source": [
    "booleans_features = df_02.iloc[ : ,[8,9,10,11,12,13,14,15,16, -1]]\n",
    "booleans_features.head()"
   ]
  },
  {
   "cell_type": "markdown",
   "metadata": {},
   "source": [
    "#### building"
   ]
  },
  {
   "cell_type": "code",
   "execution_count": 51,
   "metadata": {},
   "outputs": [
    {
     "data": {
      "text/plain": [
       "building  month\n",
       "False     01        660\n",
       "          02        709\n",
       "          03        920\n",
       "          04        791\n",
       "          05        685\n",
       "          06        962\n",
       "          07       1121\n",
       "          08       1479\n",
       "True      01        253\n",
       "          02        275\n",
       "          03        346\n",
       "          04        286\n",
       "          05        254\n",
       "          06        381\n",
       "          07        431\n",
       "          08        613\n",
       "dtype: int64"
      ]
     },
     "execution_count": 51,
     "metadata": {},
     "output_type": "execute_result"
    }
   ],
   "source": [
    "booleans_features.groupby(['building', 'month']).size()"
   ]
  },
  {
   "cell_type": "code",
   "execution_count": 52,
   "metadata": {},
   "outputs": [
    {
     "data": {
      "image/png": "[encoded data removed]",
      "text/plain": [
       "<Figure size 432x288 with 1 Axes>"
      ]
     },
     "metadata": {},
     "output_type": "display_data"
    }
   ],
   "source": [
    "plt.style.use('ggplot')                               \n",
    "                                                                                                                                                                                                                            \n",
    "# Contplot\n",
    "sns.countplot(data = booleans_features, y = 'building',palette='viridis');"
   ]
  },
  {
   "cell_type": "code",
   "execution_count": 53,
   "metadata": {},
   "outputs": [
    {
     "data": {
      "text/plain": [
       "<Figure size 1440x1152 with 0 Axes>"
      ]
     },
     "metadata": {},
     "output_type": "display_data"
    },
    {
     "data": {
      "image/png": "[encoded data removed]",
      "text/plain": [
       "<Figure size 777.6x432 with 2 Axes>"
      ]
     },
     "metadata": {},
     "output_type": "display_data"
    }
   ],
   "source": [
    "plt.figure(figsize=(20, 16))\n",
    "plt.style.use('ggplot')\n",
    "\n",
    "g = sns.catplot(data = booleans_features, x = \"month\",\n",
    "            kind = \"count\", \n",
    "            col = 'building', col_wrap = 3,\n",
    "            legend = True,\n",
    "            margin_titles = True,\n",
    "            legend_out = True ,\n",
    "            height = 6, aspect = 0.6,\n",
    "            palette='viridis'); "
   ]
  },
  {
   "cell_type": "markdown",
   "metadata": {},
   "source": [
    "#### conservation"
   ]
  },
  {
   "cell_type": "code",
   "execution_count": 54,
   "metadata": {},
   "outputs": [
    {
     "data": {
      "image/png": "[encoded data removed]",
      "text/plain": [
       "<Figure size 432x288 with 1 Axes>"
      ]
     },
     "metadata": {},
     "output_type": "display_data"
    }
   ],
   "source": [
    "plt.style.use('ggplot')                               \n",
    "                                                                                                                                                                                                                            \n",
    "# Contplot\n",
    "sns.countplot(data = booleans_features, y = 'conservation',palette='viridis');"
   ]
  },
  {
   "cell_type": "code",
   "execution_count": null,
   "metadata": {},
   "outputs": [],
   "source": [
    "plt.figure(figsize=(20, 16))\n",
    "plt.style.use('ggplot')\n",
    "\n",
    "g = sns.catplot(data = booleans_features, x = \"month\",\n",
    "            kind = \"count\", \n",
    "            col = 'conservation', col_wrap = 3,\n",
    "            legend = True,\n",
    "            margin_titles = True,\n",
    "            legend_out = True ,\n",
    "            height = 6, aspect = 0.6,\n",
    "            palette='viridis'); "
   ]
  },
  {
   "cell_type": "markdown",
   "metadata": {},
   "source": [
    "#### size"
   ]
  },
  {
   "cell_type": "code",
   "execution_count": null,
   "metadata": {},
   "outputs": [],
   "source": [
    "plt.style.use('ggplot')                               \n",
    "                                                                                                                                                                                                                            \n",
    "# Contplot\n",
    "sns.countplot(data = booleans_features, y = 'size', palette='viridis');"
   ]
  },
  {
   "cell_type": "code",
   "execution_count": null,
   "metadata": {},
   "outputs": [],
   "source": [
    "plt.figure(figsize=(20, 16))\n",
    "plt.style.use('ggplot')\n",
    "\n",
    "g = sns.catplot(data = booleans_features, x = \"month\",\n",
    "            kind = \"count\", \n",
    "            col = 'size', col_wrap = 3,\n",
    "            legend = True,\n",
    "            margin_titles = True,\n",
    "            legend_out = True ,\n",
    "            height = 6, aspect = 0.6,\n",
    "            palette='viridis'); "
   ]
  },
  {
   "cell_type": "markdown",
   "metadata": {},
   "source": [
    "#### price"
   ]
  },
  {
   "cell_type": "code",
   "execution_count": null,
   "metadata": {},
   "outputs": [],
   "source": [
    "plt.style.use('ggplot')                               \n",
    "                                                                                                                                                                                                                            \n",
    "# Contplot\n",
    "sns.countplot(data = booleans_features, y = 'price', palette='viridis');"
   ]
  },
  {
   "cell_type": "code",
   "execution_count": null,
   "metadata": {},
   "outputs": [],
   "source": [
    "plt.figure(figsize=(20, 16))\n",
    "plt.style.use('ggplot')\n",
    "\n",
    "g = sns.catplot(data = booleans_features, x = \"month\",\n",
    "            kind = \"count\", \n",
    "            col = 'price', col_wrap = 3,\n",
    "            legend = True,\n",
    "            margin_titles = True,\n",
    "            legend_out = True ,\n",
    "            height = 6, aspect = 0.6,\n",
    "            palette='viridis'); "
   ]
  },
  {
   "cell_type": "markdown",
   "metadata": {},
   "source": [
    "#### location"
   ]
  },
  {
   "cell_type": "code",
   "execution_count": null,
   "metadata": {},
   "outputs": [],
   "source": [
    "plt.style.use('ggplot')                               \n",
    "                                                                                                                                                                                                                            \n",
    "# Contplot\n",
    "sns.countplot(data = booleans_features, y = 'location',palette='viridis');"
   ]
  },
  {
   "cell_type": "code",
   "execution_count": null,
   "metadata": {},
   "outputs": [],
   "source": [
    "plt.figure(figsize=(20, 16))\n",
    "plt.style.use('ggplot')\n",
    "\n",
    "g = sns.catplot(data = booleans_features, x = \"month\",\n",
    "            kind = \"count\", \n",
    "            col = 'location', col_wrap = 3,\n",
    "            legend = True,\n",
    "            margin_titles = True,\n",
    "            legend_out = True ,\n",
    "            height = 6, aspect = 0.6,\n",
    "            palette='viridis'); "
   ]
  },
  {
   "cell_type": "markdown",
   "metadata": {},
   "source": [
    "#### did_not_like_the_location"
   ]
  },
  {
   "cell_type": "code",
   "execution_count": null,
   "metadata": {},
   "outputs": [],
   "source": [
    "plt.style.use('ggplot')                               \n",
    "                                                                                                                                                                                                                            \n",
    "# Contplot\n",
    "sns.countplot(data = booleans_features, y = 'did_not_like_the_location', palette='viridis');"
   ]
  },
  {
   "cell_type": "code",
   "execution_count": null,
   "metadata": {},
   "outputs": [],
   "source": [
    "plt.figure(figsize=(20, 16))\n",
    "plt.style.use('ggplot')\n",
    "\n",
    "g = sns.catplot(data = booleans_features, x = \"month\",\n",
    "            kind = \"count\", \n",
    "            col = 'did_not_like_the_location', col_wrap = 3,\n",
    "            legend = True,\n",
    "            margin_titles = True,\n",
    "            legend_out = True ,\n",
    "            height = 6, aspect = 0.6,\n",
    "            palette='viridis'); "
   ]
  },
  {
   "cell_type": "markdown",
   "metadata": {},
   "source": [
    "#### expected_a_better_preserved_property"
   ]
  },
  {
   "cell_type": "code",
   "execution_count": null,
   "metadata": {},
   "outputs": [],
   "source": [
    "plt.style.use('ggplot')                               \n",
    "                                                                                                                                                                                                                            \n",
    "# Contplot\n",
    "sns.countplot(data = booleans_features, y = 'expected_a_better_preserved_property',palette='viridis');"
   ]
  },
  {
   "cell_type": "code",
   "execution_count": null,
   "metadata": {},
   "outputs": [],
   "source": [
    "plt.figure(figsize=(20, 16))\n",
    "plt.style.use('ggplot')\n",
    "\n",
    "g = sns.catplot(data = booleans_features, x = \"month\",\n",
    "            kind = \"count\", \n",
    "            col = 'expected_a_better_preserved_property', col_wrap = 3,\n",
    "            legend = True,\n",
    "            margin_titles = True,\n",
    "            legend_out = True ,\n",
    "            height = 6, aspect = 0.6,\n",
    "            palette='viridis');"
   ]
  },
  {
   "cell_type": "markdown",
   "metadata": {},
   "source": [
    "#### bigger_in_photos"
   ]
  },
  {
   "cell_type": "code",
   "execution_count": null,
   "metadata": {},
   "outputs": [],
   "source": [
    "plt.style.use('ggplot')                               \n",
    "                                                                                                                                                                                                                            \n",
    "# Contplot\n",
    "sns.countplot(data = booleans_features, y = 'bigger_in_photos',palette='viridis');"
   ]
  },
  {
   "cell_type": "code",
   "execution_count": null,
   "metadata": {},
   "outputs": [],
   "source": [
    "plt.figure(figsize=(20, 16))\n",
    "plt.style.use('ggplot')\n",
    "\n",
    "g = sns.catplot(data = booleans_features, x = \"month\",\n",
    "            kind = \"count\", \n",
    "            col = 'bigger_in_photos', col_wrap = 3,\n",
    "            legend = True,\n",
    "            margin_titles = True,\n",
    "            legend_out = True ,\n",
    "            height = 6, aspect = 0.6,\n",
    "            palette='viridis');"
   ]
  },
  {
   "cell_type": "markdown",
   "metadata": {},
   "source": [
    "#### different_from_the_listing"
   ]
  },
  {
   "cell_type": "code",
   "execution_count": null,
   "metadata": {},
   "outputs": [],
   "source": [
    "plt.style.use('ggplot')                               \n",
    "                                                                                                                                                                                                                            \n",
    "# Contplot\n",
    "sns.countplot(data = booleans_features, y = 'different_from_the_listing',palette='viridis');"
   ]
  },
  {
   "cell_type": "code",
   "execution_count": null,
   "metadata": {},
   "outputs": [],
   "source": [
    "plt.figure(figsize=(20, 16))\n",
    "plt.style.use('ggplot')\n",
    "\n",
    "g = sns.catplot(data = booleans_features, x = \"month\",\n",
    "            kind = \"count\", \n",
    "            col = 'different_from_the_listing', col_wrap = 3,\n",
    "            legend = True,\n",
    "            margin_titles = True,\n",
    "            legend_out = True ,\n",
    "            height = 6, aspect = 0.6,\n",
    "            palette='viridis');"
   ]
  }
 ],
 "metadata": {
  "kernelspec": {
   "display_name": "Python 3.9.12 ('base')",
   "language": "python",
   "name": "python3"
  },
  "language_info": {
   "codemirror_mode": {
    "name": "ipython",
    "version": 3
   },
   "file_extension": ".py",
   "mimetype": "text/x-python",
   "name": "python",
   "nbconvert_exporter": "python",
   "pygments_lexer": "ipython3",
   "version": "3.9.12"
  },
  "vscode": {
   "interpreter": {
    "hash": "3382c2354907d6b1157f78104ecde91dfa91c54231720a600dfddb26cc7cb5d6"
   }
  }
 },
 "nbformat": 4,
 "nbformat_minor": 4
}
